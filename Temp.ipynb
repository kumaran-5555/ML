{
 "cells": [
  {
   "cell_type": "code",
   "execution_count": 4,
   "metadata": {
    "collapsed": false
   },
   "outputs": [
    {
     "name": "stdout",
     "output_type": "stream",
     "text": [
      "2 3.14\n",
      "4 4.9298\n",
      "6 5.159857333333334\n",
      "8 4.050488006666668\n",
      "10 2.5437064681866675\n",
      "12 1.3312063850176892\n",
      "14 0.597141149850792\n",
      "16 0.23437790131643588\n",
      "18 0.08177184557040096\n",
      "20 0.025676359509105906\n",
      "22 0.007329433532599323\n",
      "24 0.001917868441030156\n",
      "26 0.00046323899267959156\n",
      "28 0.00010389788835813697\n",
      "30 2.174929129630334e-05\n",
      "32 4.26829841689953e-06\n",
      "34 7.883798252390898e-07\n",
      "36 1.375284806250412e-07\n",
      "38 2.2728391008559446e-08\n",
      "40 3.568357388343833e-09\n",
      "42 5.335543904476017e-10\n",
      "44 7.615276300024861e-11\n",
      "46 1.0396507644381768e-11\n",
      "48 1.360209750139948e-12\n",
      "50 1.7084234461757748e-13\n",
      "52 2.0632498542276666e-14\n",
      "54 2.3994831638055087e-15\n",
      "56 2.69084897655332e-16\n",
      "58 2.913539926337044e-17\n",
      "60 3.049505122899439e-18\n",
      "62 3.0888535760981414e-19\n",
      "64 3.0309375715463015e-20\n",
      "66 2.883983022622845e-21\n",
      "68 2.663443144422274e-22\n",
      "70 2.3894889924245545e-23\n",
      "72 2.0841653989480836e-24\n",
      "74 1.768724149377563e-25\n",
      "76 1.4615246918540917e-26\n",
      "78 1.176714751903038e-27\n",
      "80 9.237210802438848e-29\n",
      "82 7.07435168772146e-30\n",
      "84 5.288920071296521e-31\n",
      "86 3.86214163345839e-32\n",
      "88 2.7561647111498508e-33\n",
      "90 1.9231904873356738e-34\n",
      "92 1.312786550050873e-35\n",
      "94 8.770531419488812e-37\n",
      "96 5.737389303582264e-38\n",
      "98 3.676612737397615e-39\n",
      "100 2.3089127990857024e-40\n",
      "102 1.4215659194370793e-41\n",
      "104 8.584071128908518e-43\n",
      "106 5.085657234862782e-44\n",
      "108 2.957215503235025e-45\n",
      "110 1.688301214574178e-46\n",
      "112 9.466546096005213e-48\n",
      "114 5.214904340606381e-49\n",
      "116 2.823241315431731e-50\n",
      "118 1.502538598382311e-51\n",
      "120 7.8632853315340945e-53\n",
      "122 4.0476583509864023e-54\n",
      "124 2.0499431003382748e-55\n",
      "126 1.0217176722320927e-56\n",
      "128 5.0128023293887044e-58\n",
      "130 2.421569125273928e-59\n",
      "132 1.1520798565697175e-60\n",
      "134 5.39929962631181e-62\n",
      "136 2.4932060039145714e-63\n",
      "138 1.134589398882863e-64\n",
      "140 5.089443874988843e-66\n",
      "142 2.2508244742908402e-67\n",
      "144 9.81609562399061e-69\n",
      "146 4.222265788949385e-70\n",
      "148 1.7916100780136585e-71\n",
      "150 7.50087419328385e-73\n",
      "152 3.099045390383064e-74\n",
      "154 1.2637665617925742e-75\n",
      "156 5.087470517985492e-77\n",
      "158 2.0221085349967653e-78\n",
      "160 7.936775999862304e-80\n",
      "162 3.0767255110577324e-81\n",
      "164 1.178160744478205e-82\n",
      "166 4.457138238146462e-84\n",
      "168 1.666120722354749e-85\n",
      "170 6.154845962581074e-87\n",
      "172 2.2472344561051825e-88\n",
      "174 8.110708266862383e-90\n",
      "176 2.8940481770395326e-91\n",
      "178 1.0210462107757452e-92\n",
      "180 3.5623167798176e-94\n",
      "182 1.229195020728271e-95\n",
      "184 4.1952960490073593e-97\n",
      "186 1.4164763004175386e-98\n",
      "188 4.731633599267097e-100\n",
      "190 1.5639294212314408e-101\n",
      "192 5.115352481944504e-103\n",
      "194 1.6558976075572932e-104\n",
      "196 5.30563110992847e-106\n",
      "198 1.6827961298156965e-107\n",
      "200 5.283979847621288e-109\n"
     ]
    }
   ],
   "source": [
    "k = 1\n",
    "fact = 1\n",
    "for i in range(100):\n",
    "    volumne = ((3.14**k) * 1)/ (fact)\n",
    "    print(k*2, volumne)\n",
    "    k += 1    \n",
    "    fact *= k\n",
    "    \n",
    "    \n",
    "\n",
    "    "
   ]
  },
  {
   "cell_type": "code",
   "execution_count": 21,
   "metadata": {
    "collapsed": false
   },
   "outputs": [
    {
     "name": "stdout",
     "output_type": "stream",
     "text": [
      "[[-5.     -4.9975 -4.995  ...,  4.9925  4.995   4.9975]\n",
      " [-5.     -4.9975 -4.995  ...,  4.9925  4.995   4.9975]\n",
      " [-5.     -4.9975 -4.995  ...,  4.9925  4.995   4.9975]\n",
      " ..., \n",
      " [-5.     -4.9975 -4.995  ...,  4.9925  4.995   4.9975]\n",
      " [-5.     -4.9975 -4.995  ...,  4.9925  4.995   4.9975]\n",
      " [-5.     -4.9975 -4.995  ...,  4.9925  4.995   4.9975]] [[-5.     -5.     -5.     ..., -5.     -5.     -5.    ]\n",
      " [-4.9975 -4.9975 -4.9975 ..., -4.9975 -4.9975 -4.9975]\n",
      " [-4.995  -4.995  -4.995  ..., -4.995  -4.995  -4.995 ]\n",
      " ..., \n",
      " [ 4.9925  4.9925  4.9925 ...,  4.9925  4.9925  4.9925]\n",
      " [ 4.995   4.995   4.995  ...,  4.995   4.995   4.995 ]\n",
      " [ 4.9975  4.9975  4.9975 ...,  4.9975  4.9975  4.9975]] [[ 10.     10.005  10.01  ...,  29.985  29.99   29.995]\n",
      " [ 10.005   9.995  10.    ...,  29.975  29.98   29.985]\n",
      " [ 10.01   10.      9.99  ...,  29.965  29.97   29.98 ]\n",
      " ..., \n",
      " [ 29.985  29.975  29.965 ...,   9.985   9.995  10.005]\n",
      " [ 29.99   29.98   29.97  ...,   9.995   9.99   10.   ]\n",
      " [ 29.995  29.985  29.98  ...,  10.005  10.      9.995]]\n",
      "(4000, 4000)\n"
     ]
    }
   ],
   "source": [
    "#!/usr/bin/env python\n",
    "\"\"\"\n",
    "Illustrate simple contour plotting, contours on an image with\n",
    "a colorbar for the contours, and labelled contours.\n",
    "\n",
    "See also contour_image.py.\n",
    "\"\"\"\n",
    "import matplotlib\n",
    "import numpy as np\n",
    "import matplotlib.cm as cm\n",
    "import matplotlib.mlab as mlab\n",
    "import matplotlib.pyplot as plt\n",
    "\n",
    "matplotlib.rcParams['xtick.direction'] = 'out'\n",
    "matplotlib.rcParams['ytick.direction'] = 'out'\n",
    "\n",
    "fig = plt.figure()\n",
    "ax = fig.gca(projection='3d')\n",
    "X = np.arange(-5, 5, 0.0025)\n",
    "Y = np.arange(-5, 5, 0.0025)\n",
    "X, Y = np.meshgrid(X, Y)\n",
    "\n",
    "Z = np.abs(X+Y)+ 3 * np.abs(Y-X)\n",
    "\n",
    "\n",
    "# Create a simple contour plot with labels using default colors.  The\n",
    "# inline argument to clabel will control whether the labels are draw\n",
    "# over the line segments of the contour, removing the lines beneath\n",
    "# the label\n",
    "plt.figure()\n",
    "CS = plt.contour(X, Y, Z)\n",
    "plt.clabel(CS, inline=1, fontsize=10)\n",
    "plt.title('Simplest default with labels')\n",
    "\n",
    "print(X,Y,Z)\n",
    "print(X.shape)\n",
    "\n",
    "plt.show()"
   ]
  },
  {
   "cell_type": "code",
   "execution_count": null,
   "metadata": {
    "collapsed": true
   },
   "outputs": [],
   "source": []
  },
  {
   "cell_type": "code",
   "execution_count": 27,
   "metadata": {
    "collapsed": false
   },
   "outputs": [],
   "source": [
    "from mpl_toolkits.mplot3d import Axes3D\n",
    "from matplotlib import cm\n",
    "from matplotlib.ticker import LinearLocator, FormatStrFormatter\n",
    "import matplotlib.pyplot as plt\n",
    "import numpy as np\n",
    "\n",
    "fig = plt.figure()\n",
    "ax = fig.gca(projection='3d')\n",
    "X = np.arange(-5, 5, 0.25)\n",
    "Y = np.arange(-5, 5, 0.25)\n",
    "X, Y = np.meshgrid(X, Y)\n",
    "\n",
    "Z = np.abs(X+Y)+ 3 * np.abs(Y-X)\n",
    "surf = ax.plot_surface(X, Y, Z, rstride=1, cstride=1, cmap=cm.coolwarm, linewidth=0, antialiased=False)\n",
    "ax.set_zlim(-1.01, 1.01)\n",
    "\n",
    "ax.zaxis.set_major_locator(LinearLocator(10))\n",
    "ax.zaxis.set_major_formatter(FormatStrFormatter('%.02f'))\n",
    "\n",
    "fig.colorbar(surf, shrink=0.5, aspect=5)\n",
    "\n",
    "plt.show()\n"
   ]
  },
  {
   "cell_type": "code",
   "execution_count": 28,
   "metadata": {
    "collapsed": false
   },
   "outputs": [
    {
     "ename": "ImportError",
     "evalue": "No module named 'theano'",
     "output_type": "error",
     "traceback": [
      "\u001b[1;31m---------------------------------------------------------------------------\u001b[0m",
      "\u001b[1;31mImportError\u001b[0m                               Traceback (most recent call last)",
      "\u001b[1;32m<ipython-input-28-3397704bd624>\u001b[0m in \u001b[0;36m<module>\u001b[1;34m()\u001b[0m\n\u001b[1;32m----> 1\u001b[1;33m \u001b[1;32mimport\u001b[0m \u001b[0mtheano\u001b[0m\u001b[1;33m\u001b[0m\u001b[0m\n\u001b[0m",
      "\u001b[1;31mImportError\u001b[0m: No module named 'theano'"
     ]
    }
   ],
   "source": [
    "import theano"
   ]
  },
  {
   "cell_type": "code",
   "execution_count": 14,
   "metadata": {
    "collapsed": false
   },
   "outputs": [
    {
     "name": "stdout",
     "output_type": "stream",
     "text": [
      "Here\n",
      "(1515329, 21)\n",
      "(7573463, 21)\n"
     ]
    },
    {
     "ename": "AttributeError",
     "evalue": "'numpy.ndarray' object has no attribute 'test'",
     "output_type": "error",
     "traceback": [
      "\u001b[1;31m---------------------------------------------------------------------------\u001b[0m",
      "\u001b[1;31mAttributeError\u001b[0m                            Traceback (most recent call last)",
      "\u001b[1;32m<ipython-input-14-3811abfaf56f>\u001b[0m in \u001b[0;36m<module>\u001b[1;34m()\u001b[0m\n\u001b[0;32m     32\u001b[0m \u001b[0mpickle\u001b[0m\u001b[1;33m.\u001b[0m\u001b[0mdump\u001b[0m\u001b[1;33m(\u001b[0m\u001b[0mtest\u001b[0m\u001b[1;33m,\u001b[0m \u001b[0mopen\u001b[0m\u001b[1;33m(\u001b[0m\u001b[1;34mr\"E:\\Git\\ML\\Kaggle_Grupo\\Data\\test.2.pkl\"\u001b[0m\u001b[1;33m,\u001b[0m \u001b[1;34m'wb'\u001b[0m\u001b[1;33m)\u001b[0m\u001b[1;33m)\u001b[0m\u001b[1;33m\u001b[0m\u001b[0m\n\u001b[0;32m     33\u001b[0m \u001b[1;33m\u001b[0m\u001b[0m\n\u001b[1;32m---> 34\u001b[1;33m \u001b[0mprint\u001b[0m\u001b[1;33m(\u001b[0m\u001b[0mtrain\u001b[0m\u001b[1;33m.\u001b[0m\u001b[0mtest\u001b[0m\u001b[1;33m)\u001b[0m\u001b[1;33m\u001b[0m\u001b[0m\n\u001b[0m",
      "\u001b[1;31mAttributeError\u001b[0m: 'numpy.ndarray' object has no attribute 'test'"
     ]
    }
   ],
   "source": [
    "import numpy as np\n",
    "from sklearn import linear_model\n",
    "from sklearn import metrics\n",
    "import gc\n",
    "\n",
    "\n",
    "\n",
    "import pickle\n",
    "\n",
    "lr = linear_model.SGDRegressor(l1_ratio=0)\n",
    "\n",
    "\n",
    "print(\"Here\")\n",
    "\n",
    "\n",
    "cvtest = np.genfromtxt(r\"E:\\Git\\ML\\Kaggle_Grupo\\Data\\cvtest1.tsv\", \\\n",
    "    delimiter='\\t', usecols=(13,14,15,16,17,18,19,20,21,22,23,24,25,26,27,28,29,30,31,32,33), comments=\"m:\", filling_values=1)\n",
    "\n",
    "pickle.dump(cvtest, open(r\"E:\\Git\\ML\\Kaggle_Grupo\\Data\\cvtest1.2.pkl\", 'wb'))\n",
    "print(cvtest.shape)\n",
    "\n",
    "train = np.loadtxt(r\"E:\\Git\\ML\\Kaggle_Grupo\\Data\\trainfinal1.tsv\", \\\n",
    "    delimiter='\\t', usecols=(13,14,15,16,17,18,19,20,21,22,23,24,25,26,27,28,29,30,31,32,33), comments=\"m:\")\n",
    "gc.collect()\n",
    "\n",
    "\n",
    "print(train.shape)\n",
    "\n",
    "pickle.dump(train, open(r\"E:\\Git\\ML\\Kaggle_Grupo\\Data\\trainfinal.2.pkl\", 'wb'))\n",
    "\n",
    "\n",
    "test = np.genfromtxt(r\"E:\\Git\\ML\\Kaggle_Grupo\\Data\\test0.tsv\", \\\n",
    "    delimiter='\\t', usecols=(0,7,8,9,10,11,12,13,14,15,16,17,18,19,20,21,22,23,24,25,26), comments=\"m:\", filling_values=1)\n",
    "\n",
    "pickle.dump(test, open(r\"E:\\Git\\ML\\Kaggle_Grupo\\Data\\test.2.pkl\", 'wb'))\n",
    "\n",
    "print(test.shape)"
   ]
  },
  {
   "cell_type": "code",
   "execution_count": 1,
   "metadata": {
    "collapsed": false
   },
   "outputs": [
    {
     "name": "stdout",
     "output_type": "stream",
     "text": [
      "STATUS: Reading input..\n",
      "STATUS: train shape {} test shape {} (74180464, 8) (6999251, 7)\n",
      "STATUS: Reading products...\n",
      "(81179715, 12)\n"
     ]
    }
   ],
   "source": [
    "import pandas as pd\n",
    "import numpy as np\n",
    "import re\n",
    "\n",
    "\n",
    "brands = {}\n",
    "def extractBrand(name):\n",
    "    global brands\n",
    "    pattern = r'^[A-Z]+$'\n",
    "\n",
    "    fields = name.split(' ')\n",
    "\n",
    "    m = re.match(pattern, fields[len(fields)-2])\n",
    "\n",
    "    if fields[len(fields)-2] not in brands:            \n",
    "        brands[fields[len(fields)-2]] = len(brands)+1\n",
    "\n",
    "    return brands[fields[len(fields)-2]]\n",
    "\n",
    "\n",
    "\n",
    "\n",
    "\n",
    "\n",
    "\n",
    "def extractPieces(name):\n",
    "    pattern = r'.*\\b([0-9]+)p\\b.*'\n",
    "\n",
    "    m = re.match(pattern, name)\n",
    "\n",
    "    if m is None:\n",
    "        return 0\n",
    "    return int(m.group(1))\n",
    "\n",
    "\n",
    "def extractProductWeight(name):\n",
    "    patternGrams = r'.*\\b([0-9]+)g\\b.*'\n",
    "    patternKilos = r'.*\\b([0-9]+)Kg\\b.*'\n",
    "\n",
    "\n",
    "\n",
    "    m = re.match(patternGrams, name)\n",
    "\n",
    "    if m is None:\n",
    "        m = re.match(patternKilos, name)\n",
    "    else:\n",
    "        return int(m.group(1))\n",
    "\n",
    "    if m is None: \n",
    "        return 0\n",
    "\n",
    "    return int(m.group(1))* 1000\n",
    "\n",
    "        \n",
    "\n",
    "\n",
    "        \n",
    "dtypes_test = {'Semana': np.int8, 'Agencia_ID': np.int16, 'Canal_ID': np.int8, 'Producto_ID': np.uint16}\n",
    "dtypes_train = {'Semana': np.int8, 'Agencia_ID': np.int16, 'Canal_ID': np.int8, 'Producto_ID': np.uint16,\n",
    "       'Venta_uni_hoy': np.uint16, 'Dev_uni_proxima': np.int32, 'Demanda_uni_equil': np.int16}\n",
    "\n",
    "print('STATUS: Reading input..')\n",
    "train = pd.read_csv(r'E:\\Git\\ML\\Kaggle_Grupo\\Data\\train.csv', dtype = dtypes_train, \\\n",
    "    usecols = ['Semana', 'Producto_ID', 'Ruta_SAK', 'Agencia_ID', 'Cliente_ID', 'Demanda_uni_equil'])\n",
    "\n",
    "train['target'] = train['Demanda_uni_equil']\n",
    "train['istest'] = 0\n",
    "\n",
    "test =  pd.read_csv(r'E:\\Git\\ML\\Kaggle_Grupo\\Data\\test.csv', dtype = dtypes_test, usecols = ['Semana', 'Producto_ID', 'Ruta_SAK', 'Agencia_ID', 'Cliente_ID'])\n",
    "test['target'] = 0\n",
    "test['istest'] = 1\n",
    "\n",
    "data = pd.concat((train, test))\n",
    "print('STATUS: train shape {} test shape {}', train.values.shape, test.values.shape)\n",
    "\n",
    "del train, test\n",
    "\n",
    "\n",
    "print('STATUS: Reading products...')\n",
    "\n",
    "products = pd.read_csv(r'E:\\Git\\ML\\Kaggle_Grupo\\Data\\producto_tabla.csv', dtype={ 'Producto_ID': np.uint16, 'NombreProducto': np.str})\n",
    "\n",
    "products['weight'] = products['NombreProducto'].apply(extractProductWeight)\n",
    "products['piece'] = products['NombreProducto'].apply(extractPieces)\n",
    "products['brand'] = products['NombreProducto'].apply(extractBrand)\n",
    "\n",
    "data = pd.merge(data, products, on='Producto_ID', how='left')\n",
    "\n",
    "pca = (data[data['istest']==0].groupby(by=['Producto_ID', 'Cliente_ID', 'Agencia_ID']))['target'].mean()\n",
    "pa = (data[data['istest']==0].groupby(by=['Producto_ID', 'Agencia_ID']))['target'].mean()\n",
    "p = (data[data['istest']==0].groupby(by=['Producto_ID']))['target'].mean()\n",
    "numOfClients = data[data['istest']==0].groupby(by=['Agencia_ID']).Cliente_ID.nunique()\n",
    "numOfProducts = data[data['istest']==0].groupby(by=['Cliente_ID']).Producto_ID.nunique()\n",
    "\n",
    "print(data.values.shape)"
   ]
  },
  {
   "cell_type": "code",
   "execution_count": null,
   "metadata": {
    "collapsed": true
   },
   "outputs": [],
   "source": [
    "print(data.values.shape)"
   ]
  },
  {
   "cell_type": "code",
   "execution_count": 5,
   "metadata": {
    "collapsed": false
   },
   "outputs": [
    {
     "name": "stdout",
     "output_type": "stream",
     "text": [
      "<zip object at 0x00000261C7027A48>\n"
     ]
    },
    {
     "ename": "IndexError",
     "evalue": "tuple index out of range",
     "output_type": "error",
     "traceback": [
      "\u001b[1;31m---------------------------------------------------------------------------\u001b[0m",
      "\u001b[1;31mIndexError\u001b[0m                                Traceback (most recent call last)",
      "\u001b[1;32m<ipython-input-5-b7402490b484>\u001b[0m in \u001b[0;36m<module>\u001b[1;34m()\u001b[0m\n\u001b[0;32m     19\u001b[0m        \u001b[1;34m'lagVar'\u001b[0m\u001b[1;33m,\u001b[0m \u001b[1;34m'lagStdDev'\u001b[0m\u001b[1;33m,\u001b[0m \u001b[1;34m'nPid'\u001b[0m\u001b[1;33m,\u001b[0m \u001b[1;34m'nAgen'\u001b[0m\u001b[1;33m,\u001b[0m \u001b[1;34m'nRuka'\u001b[0m\u001b[1;33m,\u001b[0m \u001b[1;34m'nClient'\u001b[0m\u001b[1;33m,\u001b[0m \u001b[1;34m'weight'\u001b[0m\u001b[1;33m,\u001b[0m\u001b[1;33m\u001b[0m\u001b[0m\n\u001b[0;32m     20\u001b[0m        \u001b[1;34m'piece'\u001b[0m\u001b[1;33m,\u001b[0m \u001b[1;34m'brand'\u001b[0m\u001b[1;33m,\u001b[0m \u001b[1;34m'volumn'\u001b[0m\u001b[1;33m,\u001b[0m \u001b[1;34m'weightPerPeice'\u001b[0m\u001b[1;33m,\u001b[0m \u001b[1;34m'cluster'\u001b[0m\u001b[1;33m,\u001b[0m \u001b[1;34m'pBit0'\u001b[0m\u001b[1;33m,\u001b[0m\u001b[1;33m\u001b[0m\u001b[0m\n\u001b[1;32m---> 21\u001b[1;33m        'pBit1', 'pBit2', 'pBit3', 'pBit4', 'label'])\n\u001b[0m\u001b[0;32m     22\u001b[0m \u001b[1;33m\u001b[0m\u001b[0m\n\u001b[0;32m     23\u001b[0m \u001b[1;33m\u001b[0m\u001b[0m\n",
      "\u001b[1;32m<ipython-input-5-b7402490b484>\u001b[0m in \u001b[0;36mfeatureImportance\u001b[1;34m(m, features)\u001b[0m\n\u001b[0;32m     13\u001b[0m     \u001b[0mprint\u001b[0m\u001b[1;33m(\u001b[0m\u001b[0mvalues\u001b[0m\u001b[1;33m)\u001b[0m\u001b[1;33m\u001b[0m\u001b[0m\n\u001b[0;32m     14\u001b[0m \u001b[1;33m\u001b[0m\u001b[0m\n\u001b[1;32m---> 15\u001b[1;33m     \u001b[0mprint\u001b[0m\u001b[1;33m(\u001b[0m\u001b[0msorted\u001b[0m\u001b[1;33m(\u001b[0m\u001b[0mvalues\u001b[0m\u001b[1;33m,\u001b[0m \u001b[0mkey\u001b[0m\u001b[1;33m=\u001b[0m\u001b[1;32mlambda\u001b[0m \u001b[0mx\u001b[0m\u001b[1;33m:\u001b[0m \u001b[0mx\u001b[0m\u001b[1;33m[\u001b[0m\u001b[1;36m1\u001b[0m\u001b[1;33m]\u001b[0m\u001b[1;33m,\u001b[0m \u001b[0mreverse\u001b[0m\u001b[1;33m=\u001b[0m\u001b[1;32mTrue\u001b[0m\u001b[1;33m)\u001b[0m\u001b[1;33m)\u001b[0m\u001b[1;33m\u001b[0m\u001b[0m\n\u001b[0m\u001b[0;32m     16\u001b[0m \u001b[1;33m\u001b[0m\u001b[0m\n\u001b[0;32m     17\u001b[0m featureImportance('E:\\\\Git\\\\ML\\\\Kaggle_Grupo\\\\Data\\\\OutputXGB3\\\\cfc924ea701e5be0d3bdaf0259498b35.XGB.pkl', ['Agencia_ID', 'Cliente_ID', 'Producto_ID', 'Ruta_SAK', 'Semana',\n",
      "\u001b[1;32m<ipython-input-5-b7402490b484>\u001b[0m in \u001b[0;36m<lambda>\u001b[1;34m(x)\u001b[0m\n\u001b[0;32m     13\u001b[0m     \u001b[0mprint\u001b[0m\u001b[1;33m(\u001b[0m\u001b[0mvalues\u001b[0m\u001b[1;33m)\u001b[0m\u001b[1;33m\u001b[0m\u001b[0m\n\u001b[0;32m     14\u001b[0m \u001b[1;33m\u001b[0m\u001b[0m\n\u001b[1;32m---> 15\u001b[1;33m     \u001b[0mprint\u001b[0m\u001b[1;33m(\u001b[0m\u001b[0msorted\u001b[0m\u001b[1;33m(\u001b[0m\u001b[0mvalues\u001b[0m\u001b[1;33m,\u001b[0m \u001b[0mkey\u001b[0m\u001b[1;33m=\u001b[0m\u001b[1;32mlambda\u001b[0m \u001b[0mx\u001b[0m\u001b[1;33m:\u001b[0m \u001b[0mx\u001b[0m\u001b[1;33m[\u001b[0m\u001b[1;36m1\u001b[0m\u001b[1;33m]\u001b[0m\u001b[1;33m,\u001b[0m \u001b[0mreverse\u001b[0m\u001b[1;33m=\u001b[0m\u001b[1;32mTrue\u001b[0m\u001b[1;33m)\u001b[0m\u001b[1;33m)\u001b[0m\u001b[1;33m\u001b[0m\u001b[0m\n\u001b[0m\u001b[0;32m     16\u001b[0m \u001b[1;33m\u001b[0m\u001b[0m\n\u001b[0;32m     17\u001b[0m featureImportance('E:\\\\Git\\\\ML\\\\Kaggle_Grupo\\\\Data\\\\OutputXGB3\\\\cfc924ea701e5be0d3bdaf0259498b35.XGB.pkl', ['Agencia_ID', 'Cliente_ID', 'Producto_ID', 'Ruta_SAK', 'Semana',\n",
      "\u001b[1;31mIndexError\u001b[0m: tuple index out of range"
     ]
    }
   ],
   "source": [
    "import pickle\n",
    "import numpy\n",
    "\n",
    "def featureImportance(m, features):\n",
    "    model = pickle.load(open(m, 'rb'))\n",
    "    fscore = model.booster().get_fscore()\n",
    "    fscore2 = {}\n",
    "    for k in fscore.keys():\n",
    "        new = int(k.replace('f',''))\n",
    "        fscore2[features[new]] = fscore[k]\n",
    "        \n",
    "    values = zip(fscore2)\n",
    "    print(values)\n",
    "    \n",
    "    print(sorted(values, key=lambda x: x[1], reverse=True))\n",
    "    \n",
    "featureImportance('E:\\\\Git\\\\ML\\\\Kaggle_Grupo\\\\Data\\\\OutputXGB3\\\\cfc924ea701e5be0d3bdaf0259498b35.XGB.pkl', ['Agencia_ID', 'Cliente_ID', 'Producto_ID', 'Ruta_SAK', 'Semana',\n",
    "       'numOfClients', 'numOfProducts', 'l2', 'l3', 'l4', 'l5', 'sumLags',\n",
    "       'lagVar', 'lagStdDev', 'nPid', 'nAgen', 'nRuka', 'nClient', 'weight',\n",
    "       'piece', 'brand', 'volumn', 'weightPerPeice', 'cluster', 'pBit0',\n",
    "       'pBit1', 'pBit2', 'pBit3', 'pBit4', 'label'])\n",
    "        \n",
    "    \n",
    "\n",
    "        "
   ]
  },
  {
   "cell_type": "code",
   "execution_count": null,
   "metadata": {
    "collapsed": true
   },
   "outputs": [],
   "source": []
  }
 ],
 "metadata": {
  "kernelspec": {
   "display_name": "Python 3",
   "language": "python",
   "name": "python3"
  },
  "language_info": {
   "codemirror_mode": {
    "name": "ipython",
    "version": 3
   },
   "file_extension": ".py",
   "mimetype": "text/x-python",
   "name": "python",
   "nbconvert_exporter": "python",
   "pygments_lexer": "ipython3",
   "version": "3.5.1"
  }
 },
 "nbformat": 4,
 "nbformat_minor": 0
}
