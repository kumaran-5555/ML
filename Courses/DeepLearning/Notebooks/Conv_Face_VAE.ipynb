{
 "cells": [
  {
   "cell_type": "code",
   "execution_count": 2,
   "metadata": {},
   "outputs": [],
   "source": [
    "\n",
    "# Import the relevant modules\n",
    "from __future__ import print_function # Use a function definition from future version (say 3.x from 2.7 interpreter)\n",
    "import matplotlib.pyplot as plt\n",
    "import numpy as np\n",
    "import os\n",
    "import sys\n",
    "\n",
    "# Import CNTK\n",
    "import cntk as C\n",
    "\n",
    "\n",
    "import cntk.io.transforms as xforms\n",
    "import cntk.tests.test_utils\n",
    "#C.cntk_py.set_fixed_random_seed(1) # fix a random seed for CNTK components\n",
    "\n",
    "try:\n",
    "    from urllib.request import urlretrieve\n",
    "except ImportError:\n",
    "    from urllib import urlretrieve\n",
    "    \n",
    "import gzip\n",
    "import matplotlib.image as mpimg\n",
    "import matplotlib.pyplot as plt\n",
    "import shutil\n",
    "import struct\n",
    "import sys\n",
    "    \n",
    "import glob\n",
    "import socket\n",
    "%matplotlib inline\n"
   ]
  },
  {
   "cell_type": "code",
   "execution_count": 79,
   "metadata": {},
   "outputs": [],
   "source": [
    "if socket.gethostname() == 'dsvm':\n",
    "    root = r'/home/kumaran/Data'\n",
    "else:\n",
    "    root = r'E:\\Temp\\\\'\n",
    "    \n",
    "data_dir = os.path.join(root, 'lfw')\n",
    "#data_dir = os.path.join(root, 'MNIST')\n",
    "# down data from http://vis-www.cs.umass.edu/lfw/lfw-deepfunneled.tgz\n",
    "# model dimensions\n",
    "img_h = 36\n",
    "img_w  = 36\n",
    "\n",
    "num_channels = 3\n",
    "input_dim = (num_channels, img_h, img_w)\n",
    "num_classes  = 2\n",
    "latent_dim = 15\n",
    "\n",
    "e_kernel_1 = (5,5)\n",
    "e_stride_1 = (2,2)\n",
    "e_filter_1 = 1\n",
    "e_filter_2 =  128\n",
    "\n",
    "isFast = False\n",
    "epoch_size = 30000        # 30000 samples is half the dataset size\n",
    "minibatch_size = 64\n",
    "num_sweeps_to_train_with = 10 if isFast else 1000\n",
    "num_samples_per_sweep = 60000\n",
    "num_minibatches_to_train = (num_samples_per_sweep * num_sweeps_to_train_with) // minibatch_size\n",
    "num_samples_to_test = 10000\n",
    "\n",
    "#map_file = os.path.join(data_dir, 'cntk_image_data.tsv')"
   ]
  },
  {
   "cell_type": "code",
   "execution_count": 26,
   "metadata": {},
   "outputs": [],
   "source": [
    "def create_reader_lfw(map_file, is_training):\n",
    "    print(\"Reading map file:\", map_file)    \n",
    "\n",
    "    if not os.path.exists(map_file):\n",
    "        raise RuntimeError(\"This tutorials depends 201A tutorials, please run 201A first.\")\n",
    "\n",
    "    # transformation pipeline for the features has jitter/crop only when training\n",
    "    transforms = []\n",
    "    # train uses data augmentation (translation only)\n",
    "    if is_training and False:\n",
    "        transforms += [\n",
    "            xforms.crop(crop_type='randomside', side_ratio=0.8)\n",
    "        ]\n",
    "    transforms += [\n",
    "        xforms.scale(width=img_w, height=img_w, channels=num_channels, interpolations='linear')        \n",
    "    ]    \n",
    "    \n",
    "    # deserializer\n",
    "    return C.io.MinibatchSource(C.io.ImageDeserializer(map_file, C.io.StreamDefs(\n",
    "        input = C.io.StreamDef(field='image', transforms=transforms), # first column in map file is referred to as 'image'\n",
    "        labels   = C.io.StreamDef(field='label', shape=num_classes)      # and second as 'label'\n",
    "    )), randomize = is_training, max_sweeps = C.io.INFINITELY_REPEAT if is_training else 1)"
   ]
  },
  {
   "cell_type": "code",
   "execution_count": 60,
   "metadata": {},
   "outputs": [],
   "source": [
    "import math\n",
    "import cv2\n",
    "def gridPlot(images):\n",
    "    n = images.shape[0]\n",
    "    c = 10\n",
    "    r = math.ceil(n/c)\n",
    "    fig, axes = plt.subplots(nrows=r, ncols=c, figsize=(50, 50))\n",
    "    \n",
    "    for i in range(n):\n",
    "        axes[i].imshow(np.asarray(images[i][0].transpose(1,2,0), dtype=np.int32))\n",
    "        #axes[i].imshow(np.asarray(images[i][0].transpose(1,2,0), dtype=np.int32))"
   ]
  },
  {
   "cell_type": "code",
   "execution_count": 36,
   "metadata": {},
   "outputs": [
    {
     "name": "stdout",
     "output_type": "stream",
     "text": [
      "Reading map file: E:\\Temp\\\\lfw\\lfw_map.tsv\n"
     ]
    },
    {
     "data": {
      "text/plain": [
       "(10, 1, 3, 36, 36)"
      ]
     },
     "execution_count": 36,
     "metadata": {},
     "output_type": "execute_result"
    }
   ],
   "source": [
    "reader = create_reader_lfw(os.path.join(data_dir, 'lfw_map.tsv'), True)\n",
    "\n",
    "map = {'input': reader.streams.input, 'label': reader.streams.labels}\n",
    "data = reader.next_minibatch(10, input_map=map)\n",
    "\n",
    "data['input'].shape"
   ]
  },
  {
   "cell_type": "code",
   "execution_count": 61,
   "metadata": {
    "scrolled": false
   },
   "outputs": [
    {
     "data": {
      "image/png": "[encoded data removed]",
      "text/plain": [
       "<Figure size 3600x3600 with 10 Axes>"
      ]
     },
     "metadata": {},
     "output_type": "display_data"
    }
   ],
   "source": [
    "gridPlot(data['input'].data.asarray())"
   ]
  },
  {
   "cell_type": "code",
   "execution_count": 104,
   "metadata": {
    "scrolled": true
   },
   "outputs": [],
   "source": [
    "def encoder_cnn(input):    \n",
    "    with C.layers.default_options(init=C.normal(scale=0.02)):\n",
    "\n",
    "        dfc_dim = 1024\n",
    "        df_dim = 64\n",
    "\n",
    "        print('Discriminator convolution input shape', input.shape)\n",
    "        print(e_kernel_1)\n",
    "        h0 = C.layers.Convolution2D(e_kernel_1, e_filter_1, strides=e_stride_1, pad=True, activation=C.relu)(input)\n",
    "        print('h0 shape :', h0.shape)\n",
    "                \n",
    "        h1 = C.layers.Convolution2D(e_kernel_1, e_filter_2, strides=e_stride_1, pad=True, activation=C.relu)(h0)        \n",
    "        print('h1 shape :', h1.shape)\n",
    "        \n",
    "        \n",
    "        mu = C.layers.Dense(latent_dim, activation=None)(h1)        \n",
    "        print('mu shape :', mu.shape)\n",
    "        \n",
    "        sig = C.layers.Dense(latent_dim, activation=C.relu, init=C.normal(scale=1))(h1)\n",
    "        print('sig shape :', sig.shape)\n",
    "\n",
    "        return mu, sig\n",
    "    \n",
    "def decoder_cnn(z):\n",
    "    with C.layers.default_options(init=C.normal(scale=0.02)):\n",
    "        \n",
    "        \n",
    "        print('Generator input shape: ', z.shape)\n",
    "        s_h2, s_w2 = img_h//2, img_w//2 #Input shape (14,14)\n",
    "        s_h4, s_w4 = img_h//4, img_w//4 # Input shape (7,7)\n",
    "        gfc_dim = 1024\n",
    "        gf_dim = 64\n",
    "        \n",
    "        h1 = C.layers.Dense([e_filter_2, s_h4,  s_w4], activation=C.relu)(z)        \n",
    "        print('h1 shape', h1.shape)\n",
    "\n",
    "        h2 = C.layers.ConvolutionTranspose2D(e_kernel_1,\n",
    "                                  num_filters=e_filter_1,\n",
    "                                  strides=e_stride_1,\n",
    "                                  pad=True,\n",
    "                                  output_shape=(s_h2, s_w2), activation=C.relu)(h1)        \n",
    "        print('h2 shape', h2.shape)\n",
    "\n",
    "        h3 = C.layers.ConvolutionTranspose2D(e_kernel_1,\n",
    "                                  num_filters=3,\n",
    "                                  strides=e_stride_1,\n",
    "                                  pad=True,\n",
    "                                  output_shape=(img_h, img_w),\n",
    "                                  activation=C.sigmoid)(h2)\n",
    "        print('h3 shape :', h3.shape)\n",
    "        \n",
    "\n",
    "        return h3\n",
    "\n",
    "def decoder(input):\n",
    "    return decoder_cnn(input)\n",
    "    \n",
    "def encoder(input):\n",
    "    return encoder_cnn(input)\n",
    "network = {}\n",
    "\n",
    "\n",
    "def create_network():\n",
    "    input = C.input_variable((num_channels,img_w, img_h))\n",
    "    label = C.input_variable(input_dim)\n",
    "    network['input'] = input\n",
    "    network['label'] = label\n",
    "\n",
    "    # Create the model function\n",
    "    mu, sig = encoder(input/255.0)\n",
    "    \n",
    "    \n",
    "    z = C.random.normal_like(mu, mean=0, scale=1)\n",
    "    z = mu + z * sig\n",
    "    network['mu'] = mu\n",
    "    network['sig'] = sig\n",
    "    \n",
    "    z_placeholder = C.placeholder()            \n",
    "    output = C.as_block(decoder(z_placeholder), [(z_placeholder, z)], 'Decoder', 'Decoder_1')    \n",
    "    #output = decoder(z)\n",
    "    network['output'] = output\n",
    "    target = input/255.0\n",
    "    construction_loss = C.losses.squared_error(target, output)\n",
    "    \n",
    "    \n",
    "    #l1 = C.element_times(target, C.log(output))\n",
    "    #l2 = C.element_times(1.0-target, C.log(1.0-output))\n",
    "    #print(l1.shape)\n",
    "    #print(l2.shape)\n",
    "                         \n",
    "    #construction_loss = C.reduce_sum(-1 * C.plus(l1, l2))\n",
    "    #print(construction_loss.shape)\n",
    "    \n",
    "    #construction_loss = C.reduce_sum(C.binary_cross_entropy(output, target))                         \n",
    "    \n",
    "    log_stddev = C.log(sig)\n",
    "    kl_loss = - 0.5 * C.reduce_sum((1 + C.log(C.square(sig)) - C.square(mu) - C.square(C.exp(log_stddev))))\n",
    "    loss = 0.5 * construction_loss + 0.5 * kl_loss\n",
    "    \n",
    "    error  = construction_loss\n",
    "    network['loss'] = loss\n",
    "    network['error'] = error\n",
    "    return network\n",
    "\n"
   ]
  },
  {
   "cell_type": "code",
   "execution_count": 105,
   "metadata": {
    "scrolled": false
   },
   "outputs": [
    {
     "name": "stdout",
     "output_type": "stream",
     "text": [
      "Discriminator convolution input shape (3, 36, 36)\n",
      "(5, 5)\n",
      "h0 shape : (1, 18, 18)\n",
      "h1 shape : (128, 9, 9)\n",
      "mu shape : (15,)\n",
      "sig shape : (15,)\n",
      "Generator input shape:  (-2,)\n",
      "h1 shape (-2,)\n",
      "h2 shape (-2,)\n",
      "h3 shape : (-2,)\n"
     ]
    },
    {
     "data": {
      "text/plain": [
       "{'input': Input('Input8936', [#], [3 x 36 x 36]),\n",
       " 'label': Input('Input8937', [#], [3 x 36 x 36]),\n",
       " 'mu': Composite(Dense): Input('Input8936', [#], [3 x 36 x 36]) -> Output('Block9098_Output_0', [#], [15]),\n",
       " 'sig': Composite(Dense): Input('Input8936', [#], [3 x 36 x 36]) -> Output('Block9166_Output_0', [#], [15]),\n",
       " 'output': Composite(Decoder): Input('Input8936', [#], [3 x 36 x 36]) -> Output('Decoder_1', [#], [3 x 36 x 36]),\n",
       " 'loss': Composite(Plus): Input('Input8936', [#], [3 x 36 x 36]) -> Output('Plus9488_Output_0', [#], []),\n",
       " 'error': Composite(SquaredError): Input('Input8936', [#], [3 x 36 x 36]) -> Output('Block9437_Output_0', [#], [])}"
      ]
     },
     "execution_count": 105,
     "metadata": {},
     "output_type": "execute_result"
    }
   ],
   "source": [
    "create_network()"
   ]
  },
  {
   "cell_type": "code",
   "execution_count": null,
   "metadata": {
    "scrolled": false
   },
   "outputs": [
    {
     "name": "stdout",
     "output_type": "stream",
     "text": [
      "Reading map file: E:\\Temp\\\\lfw\\lfw_map.tsv\n",
      "Reading map file: E:\\Temp\\\\lfw\\lfw_map.tsv\n",
      "Discriminator convolution input shape (3, 36, 36)\n",
      "(5, 5)\n",
      "h0 shape : (1, 18, 18)\n",
      "h1 shape : (128, 9, 9)\n",
      "mu shape : (15,)\n",
      "sig shape : (15,)\n",
      "Generator input shape:  (-2,)\n",
      "h1 shape (-2,)\n",
      "h2 shape (-2,)\n",
      "h3 shape : (-2,)\n",
      " average      since    average      since      examples\n",
      "    loss       last     metric       last              \n",
      " ------------------------------------------------------\n"
     ]
    },
    {
     "name": "stderr",
     "output_type": "stream",
     "text": [
      "C:\\Users\\serajago.FAREAST\\AppData\\Local\\Continuum\\anaconda3\\lib\\site-packages\\cntk\\learners\\__init__.py:340: RuntimeWarning: When providing the schedule as a number, epoch_size is ignored\n",
      "  warnings.warn('When providing the schedule as a number, epoch_size is ignored', RuntimeWarning)\n"
     ]
    },
    {
     "name": "stdout",
     "output_type": "stream",
     "text": [
      "Learning rate per 1 samples: 3e-05\n",
      "      367        367        390        390            64\n",
      "      354        347        372        363           192\n",
      "      346        339        377        380           448\n",
      "      317        292        381        385           960\n",
      "      265        217        383        384          1984\n",
      "      230        196        383        384          4032\n",
      "      207        184        374        366          8128\n",
      "      183        158        345        316         16320\n",
      "      161        139        309        273         32704\n",
      "      144        127        278        248         65472\n",
      "      132        120        255        232        131008\n"
     ]
    }
   ],
   "source": [
    "def train(train_file, test_file):\n",
    "    create_network()\n",
    "    \n",
    "    loss = network['loss']\n",
    "    output = network['output']\n",
    "    error = network['error']\n",
    "    input = network['input']\n",
    "    label = network['label']\n",
    "    \n",
    "     # Instantiate the trainer object to drive the model training\n",
    "    lr_per_sample = [0.00003]\n",
    "    lr_schedule = C.learning_parameter_schedule_per_sample(lr_per_sample, epoch_size)\n",
    "    # Momentum which is applied on every minibatch_size = 64 samples\n",
    "    momentum_schedule = C.momentum_schedule(0.9126265014311797, minibatch_size)\n",
    "    # We use a variant of the Adam optimizer which is known to work well on this dataset\n",
    "    # Feel free to try other optimizers from\n",
    "    # https://www.cntk.ai/pythondocs/cntk.learner.html#module-cntk.learner\n",
    "    learner = C.fsadagrad(output.parameters,\n",
    "                         lr=lr_schedule, momentum=momentum_schedule)\n",
    "    \n",
    "    #learner = C.adam(output.parameters, lr=lr_schedule, momentum=momentum_schedule)\n",
    "\n",
    "    # Instantiate the trainer\n",
    "    progress_printer = C.logging.ProgressPrinter(0)\n",
    "    trainer = C.Trainer(output, (loss, error), learner, progress_printer)\n",
    "\n",
    "    # Map the data streams to the input and labels.\n",
    "    # Note: for autoencoders input == label\n",
    "    input_map = {\n",
    "        input  : train_file.streams.input,\n",
    "        label  : train_file.streams.labels\n",
    "    }\n",
    "    \n",
    "    test_input_map = {\n",
    "        input  : test_file.streams.input,\n",
    "        label  : test_file.streams.labels\n",
    "    }\n",
    "    aggregate_metric = 0\n",
    "    for i in range(num_minibatches_to_train):\n",
    "        # Read a mini batch from the training data file\n",
    "        data = train_file.next_minibatch(minibatch_size, input_map = input_map)\n",
    "\n",
    "        # Run the trainer on and perform model training\n",
    "        trainer.train_minibatch(data)\n",
    "        samples = trainer.previous_minibatch_sample_count\n",
    "        aggregate_metric += trainer.previous_minibatch_evaluation_average * samples\n",
    "\n",
    "    train_error = (aggregate_metric*100.0) / (trainer.total_number_of_samples_seen)\n",
    "    print(\"Average training error: {0:0.2f}%\".format(train_error))\n",
    "    \n",
    "    metric_numer = 0.0\n",
    "    metric_denom = 0\n",
    "    while True:        \n",
    "        data = test_file.next_minibatch(minibatch_size,\n",
    "                                       input_map = test_input_map)\n",
    "        n = minibatch_size\n",
    "        eval_error = trainer.test_minibatch(data)\n",
    "        metric_numer += np.abs(eval_error * n)\n",
    "        metric_denom += n\n",
    "        if metric_denom > num_samples_to_test:\n",
    "            break\n",
    "    # Average of evaluation errors of all test minibatches\n",
    "    test_error = (metric_numer*100.0) / (metric_denom)\n",
    "    print(\"Average test error: {0:0.2f}%\".format(test_error))\n",
    "\n",
    "    \n",
    "    \n",
    "\n",
    "train_file = create_reader_lfw(os.path.join(data_dir, 'lfw_map.tsv'), True)\n",
    "test_file = create_reader_lfw(os.path.join(data_dir, 'lfw_map.tsv'), False)\n",
    "\n",
    "train(train_file, test_file)"
   ]
  },
  {
   "cell_type": "code",
   "execution_count": 94,
   "metadata": {},
   "outputs": [],
   "source": [
    "test = create_reader_mnist(os.path.join(data_dir, 'Test-28x28_cntk_text.txt'), False)\n",
    "input_map = {\n",
    "        network['input']  : test.streams.input,\n",
    "        network['label']  : test.streams.labels\n",
    "    }\n",
    "data = test.next_minibatch(minibatch_size, input_map=input_map)\n",
    "output = network['output'].eval(data)"
   ]
  },
  {
   "cell_type": "code",
   "execution_count": 98,
   "metadata": {},
   "outputs": [
    {
     "data": {
      "image/png": "[encoded data removed]",
      "text/plain": [
       "<matplotlib.figure.Figure at 0x7f12d536e358>"
      ]
     },
     "metadata": {},
     "output_type": "display_data"
    }
   ],
   "source": [
    "np.random.seed()\n",
    "idx = np.random.choice(minibatch_size)\n",
    "in_img = data[network['input']].data.asarray()[idx,:,:].reshape(img_h, img_w)\n",
    "out_img = output[idx,:].reshape(img_h, img_w)\n",
    "plot_image(in_img, out_img)"
   ]
  },
  {
   "cell_type": "code",
   "execution_count": 99,
   "metadata": {},
   "outputs": [],
   "source": [
    "d = network['output'].find_by_name('Decoder_1')\n",
    "\n",
    "\n",
    "x = d.clone('freeze', {d.arguments[0] : C.input_variable(latent_dim)})"
   ]
  },
  {
   "cell_type": "code",
   "execution_count": 144,
   "metadata": {},
   "outputs": [
    {
     "data": {
      "text/plain": [
       "array([[-5.90804592e-03, -1.10823974e-01, -1.69394829e-03,\n",
       "        -8.10657628e-03,  9.41572607e-01, -7.62432635e-01,\n",
       "        -7.29749978e-01,  1.41884945e-02,  1.88793170e+00,\n",
       "        -2.46265833e-03, -8.83262791e-03,  4.95558381e-01,\n",
       "        -1.71442103e+00, -6.23207353e-03,  7.17319641e-03]], dtype=float32)"
      ]
     },
     "execution_count": 144,
     "metadata": {},
     "output_type": "execute_result"
    },
    {
     "data": {
      "image/png": "[encoded data removed]",
      "text/plain": [
       "<matplotlib.figure.Figure at 0x7f12d546fb00>"
      ]
     },
     "metadata": {},
     "output_type": "display_data"
    }
   ],
   "source": [
    "np.random.seed()\n",
    "idx = np.random.choice(minibatch_size)\n",
    "C.cntk_py.set_fixed_random_seed(idx)\n",
    "random = C.random.normal((latent_dim), mean=0, scale=1)\n",
    "plot_image(x.eval(random.eval()).reshape(img_h, img_w) , data[network['input']].data.asarray()[idx,:,:].reshape(img_h, img_w)) \n",
    "\n",
    "network['mu'].eval(data[network['input']].data.asarray()[idx,:,:])\n"
   ]
  },
  {
   "cell_type": "code",
   "execution_count": null,
   "metadata": {},
   "outputs": [],
   "source": []
  },
  {
   "cell_type": "code",
   "execution_count": 208,
   "metadata": {},
   "outputs": [
    {
     "data": {
      "text/plain": [
       "(1, 784)"
      ]
     },
     "execution_count": 208,
     "metadata": {},
     "output_type": "execute_result"
    }
   ],
   "source": [
    "\n",
    "x.eval(C.random.normal((32), mean=0, scale=1).eval()).shape"
   ]
  },
  {
   "cell_type": "code",
   "execution_count": null,
   "metadata": {},
   "outputs": [],
   "source": []
  },
  {
   "cell_type": "code",
   "execution_count": null,
   "metadata": {},
   "outputs": [],
   "source": []
  },
  {
   "cell_type": "code",
   "execution_count": null,
   "metadata": {},
   "outputs": [],
   "source": []
  },
  {
   "cell_type": "code",
   "execution_count": null,
   "metadata": {},
   "outputs": [],
   "source": []
  },
  {
   "cell_type": "code",
   "execution_count": null,
   "metadata": {},
   "outputs": [],
   "source": []
  }
 ],
 "metadata": {
  "kernelspec": {
   "display_name": "Python 3",
   "language": "python",
   "name": "python3"
  },
  "language_info": {
   "codemirror_mode": {
    "name": "ipython",
    "version": 3
   },
   "file_extension": ".py",
   "mimetype": "text/x-python",
   "name": "python",
   "nbconvert_exporter": "python",
   "pygments_lexer": "ipython3",
   "version": "3.6.5"
  }
 },
 "nbformat": 4,
 "nbformat_minor": 1
}
