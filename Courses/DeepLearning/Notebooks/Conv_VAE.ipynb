{
 "cells": [
  {
   "cell_type": "code",
   "execution_count": 95,
   "metadata": {
    "collapsed": false
   },
   "outputs": [],
   "source": [
    "\n",
    "# Import the relevant modules\n",
    "from __future__ import print_function # Use a function definition from future version (say 3.x from 2.7 interpreter)\n",
    "import matplotlib.pyplot as plt\n",
    "import numpy as np\n",
    "import os\n",
    "import sys\n",
    "\n",
    "# Import CNTK\n",
    "import cntk as C\n",
    "\n",
    "\n",
    "import cntk.io.transforms as xforms\n",
    "import cntk.tests.test_utils\n",
    "c.cntk_py.set_fixed_random_seed(1) # fix a random seed for CNTK components\n",
    "\n",
    "try:\n",
    "    from urllib.request import urlretrieve\n",
    "except ImportError:\n",
    "    from urllib import urlretrieve\n",
    "    \n",
    "import gzip\n",
    "import matplotlib.image as mpimg\n",
    "import matplotlib.pyplot as plt\n",
    "import shutil\n",
    "import struct\n",
    "import sys\n",
    "    \n",
    "import glob\n",
    "%matplotlib inline"
   ]
  },
  {
   "cell_type": "code",
   "execution_count": 143,
   "metadata": {
    "collapsed": false
   },
   "outputs": [],
   "source": [
    "data_dir = r'E:\\Temp\\lfw'\n",
    "data_dir = r'E:\\Temp\\MNIST'\n",
    "\n",
    "# down data from http://vis-www.cs.umass.edu/lfw/lfw-deepfunneled.tgz\n",
    "# model dimensions\n",
    "img_h = 28\n",
    "img_w  = 28\n",
    "input_dim = img_h * img_w\n",
    "num_channels = 3\n",
    "num_classes  = 0\n",
    "latent_dim = 32\n",
    "\n",
    "e_kernel_1 = (5,5)\n",
    "e_stride_1 = (2,2)\n",
    "e_filter_1 = 1\n",
    "e_filter_2 =  128\n",
    "\n",
    "isFast = True\n",
    "epoch_size = 30000        # 30000 samples is half the dataset size\n",
    "minibatch_size = 64\n",
    "num_sweeps_to_train_with = 20 if isFast else 100\n",
    "num_samples_per_sweep = 60000\n",
    "num_minibatches_to_train = (num_samples_per_sweep * num_sweeps_to_train_with) // minibatch_size\n",
    "\n",
    "map_file = data_dir + '\\\\cntk_image_data.tsv'"
   ]
  },
  {
   "cell_type": "code",
   "execution_count": 133,
   "metadata": {
    "collapsed": false
   },
   "outputs": [],
   "source": [
    "# prepare CNTK imageReader data\n",
    "with open(map_file, 'w') as out:\n",
    "    for f in glob.glob(data_dir + '\\\\*\\\\*.jpg'):\n",
    "        out.write('{}\\t0\\n'.format(f))\n",
    "\n",
    "def plot_image(img):\n",
    "    fig, axes = plt.subplots(nrows=1, ncols=2, figsize=(6, 6))\n",
    "\n",
    "    axes[0].imshow(img, cmap=\"gray\")\n",
    "    axes[0].axis(\"off\")\n",
    "    \n",
    "    axes[1].imshow(img, cmap=\"gray\")\n",
    "    axes[1].set_title(\"2\")\n",
    "    axes[1].axis(\"off\")\n"
   ]
  },
  {
   "cell_type": "code",
   "execution_count": 96,
   "metadata": {
    "collapsed": true
   },
   "outputs": [],
   "source": [
    "def create_reader_mnist(path, is_training):\n",
    "    return C.io.MinibatchSource(C.io.CTFDeserializer(path, C.io.StreamDefs(\n",
    "        labels = C.io.StreamDef(field='labels', shape=10, is_sparse=False),\n",
    "        input   = C.io.StreamDef(field='features', shape=784, is_sparse=False)\n",
    "    )), randomize = is_training, max_sweeps = C.io.INFINITELY_REPEAT if is_training else 1)\n",
    "\n",
    "def create_reader_lfw(map_file, train, is_training):\n",
    "    print(\"Reading map file:\", map_file)    \n",
    "\n",
    "    if not os.path.exists(map_file):\n",
    "        raise RuntimeError(\"This tutorials depends 201A tutorials, please run 201A first.\")\n",
    "\n",
    "    # transformation pipeline for the features has jitter/crop only when training\n",
    "    transforms = []\n",
    "    # train uses data augmentation (translation only)\n",
    "    if train and False:\n",
    "        transforms += [\n",
    "            xforms.crop(crop_type='randomside', side_ratio=0.8)\n",
    "        ]\n",
    "    transforms += [\n",
    "        xforms.scale(width=image_width, height=image_height, channels=num_channels, interpolations='linear')        \n",
    "    ]\n",
    "    # deserializer\n",
    "    return c.io.MinibatchSource(c.io.ImageDeserializer(map_file, c.io.StreamDefs(\n",
    "        input = c.io.StreamDef(field='image', transforms=transforms), # first column in map file is referred to as 'image'\n",
    "        labels   = c.io.StreamDef(field='label', shape=num_classes)      # and second as 'label'\n",
    "    )), randomize = is_training, max_sweeps = C.io.INFINITELY_REPEAT if is_training else 1)"
   ]
  },
  {
   "cell_type": "code",
   "execution_count": 150,
   "metadata": {
    "collapsed": true,
    "scrolled": true
   },
   "outputs": [],
   "source": [
    "def encoder(input):    \n",
    "    with C.layers.default_options(init=C.normal(scale=0.02)):\n",
    "\n",
    "        dfc_dim = 1024\n",
    "        df_dim = 64\n",
    "\n",
    "        print('Discriminator convolution input shape', input.shape)\n",
    "        x = C.reshape(input, (1, img_h, img_w))\n",
    "\n",
    "        h0 = C.layers.Convolution2D(e_kernel_1, e_filter_1, strides=e_stride_1, pad=True, activation=C.relu)(x)        \n",
    "        print('h0 shape :', h0.shape)\n",
    "\n",
    "        h1 = C.layers.Convolution2D(e_kernel_1, e_filter_2, strides=e_stride_1, pad=True, activation=C.relu)(h0)        \n",
    "        print('h1 shape :', h1.shape)\n",
    "\n",
    "        z = C.layers.Dense(latent_dim, activation=C.relu)(h1)        \n",
    "        print('h2 shape :', z.shape)\n",
    "\n",
    "        return z\n",
    "    \n",
    "def decoder(z):\n",
    "    with C.layers.default_options(init=C.normal(scale=0.02)):\n",
    "        print('Generator input shape: ', z.shape)\n",
    "        s_h2, s_w2 = img_h//2, img_w//2 #Input shape (14,14)\n",
    "        s_h4, s_w4 = img_h//4, img_w//4 # Input shape (7,7)\n",
    "        gfc_dim = 1024\n",
    "        gf_dim = 64\n",
    "        \n",
    "        h1 = C.layers.Dense([e_filter_2, s_h4,  s_w4], activation=C.relu)(z)        \n",
    "        print('h1 shape', h1.shape)\n",
    "\n",
    "        h2 = C.layers.ConvolutionTranspose2D(e_kernel_1,\n",
    "                                  num_filters=e_filter_2,\n",
    "                                  strides=e_stride_1,\n",
    "                                  pad=True,\n",
    "                                  output_shape=(s_h2, s_w2), activation=C.relu)(h1)        \n",
    "        print('h2 shape', h2.shape)\n",
    "\n",
    "        h3 = C.layers.ConvolutionTranspose2D(e_kernel_1,\n",
    "                                  num_filters=e_filter_1,\n",
    "                                  strides=e_stride_1,\n",
    "                                  pad=True,\n",
    "                                  output_shape=(img_h, img_w),\n",
    "                                  activation=C.sigmoid)(h2)\n",
    "        print('h3 shape :', h3.shape)\n",
    "\n",
    "        return C.reshape(h3, img_h * img_w)\n",
    "\n",
    "network = {}\n",
    "\n",
    "\n",
    "def create_network():\n",
    "    input = C.input_variable(input_dim)\n",
    "    label = C.input_variable(input_dim)\n",
    "    network['input'] = input\n",
    "    network['label'] = label\n",
    "\n",
    "    # Create the model function\n",
    "    z = encoder(input/255.0)\n",
    "    network['z'] = z    \n",
    "    output = decoder(z)    \n",
    "    network['output'] = output\n",
    "    target = input/255.0\n",
    "    loss = C.losses.squared_error(target, output)\n",
    "    error  = C.classification_error(output, target)\n",
    "    network['loss'] = loss\n",
    "    network['error'] = error\n",
    "    return network\n",
    "\n"
   ]
  },
  {
   "cell_type": "code",
   "execution_count": 156,
   "metadata": {
    "collapsed": false
   },
   "outputs": [],
   "source": [
    "def train(train_file, test_file):\n",
    "    create_network()\n",
    "    \n",
    "    loss = network['loss']\n",
    "    output = network['output']\n",
    "    error = network['error']\n",
    "    input = network['input']\n",
    "    label = network['label']\n",
    "    \n",
    "     # Instantiate the trainer object to drive the model training\n",
    "    lr_per_sample = [0.00003]\n",
    "    lr_schedule = C.learning_parameter_schedule_per_sample(lr_per_sample, epoch_size)\n",
    "    # Momentum which is applied on every minibatch_size = 64 samples\n",
    "    momentum_schedule = C.momentum_schedule(0.9126265014311797, minibatch_size)\n",
    "    # We use a variant of the Adam optimizer which is known to work well on this dataset\n",
    "    # Feel free to try other optimizers from\n",
    "    # https://www.cntk.ai/pythondocs/cntk.learner.html#module-cntk.learner\n",
    "    learner = C.fsadagrad(output.parameters,\n",
    "                         lr=lr_schedule, momentum=momentum_schedule)\n",
    "\n",
    "    # Instantiate the trainer\n",
    "    progress_printer = C.logging.ProgressPrinter(0)\n",
    "    trainer = C.Trainer(output, (loss, error), learner, progress_printer)\n",
    "\n",
    "    # Map the data streams to the input and labels.\n",
    "    # Note: for autoencoders input == label\n",
    "    input_map = {\n",
    "        input  : train_file.streams.input,\n",
    "        label  : train_file.streams.labels\n",
    "    }\n",
    "    aggregate_metric = 0\n",
    "    for i in range(num_minibatches_to_train):\n",
    "        # Read a mini batch from the training data file\n",
    "        data = train_file.next_minibatch(minibatch_size, input_map = input_map)\n",
    "\n",
    "        # Run the trainer on and perform model training\n",
    "        trainer.train_minibatch(data)\n",
    "        samples = trainer.previous_minibatch_sample_count\n",
    "        aggregate_metric += trainer.previous_minibatch_evaluation_average * samples\n",
    "\n",
    "    train_error = (aggregate_metric*100.0) / (trainer.total_number_of_samples_seen)\n",
    "    print(\"Average training error: {0:0.2f}%\".format(train_error))\n",
    "\n",
    "    \n",
    "    "
   ]
  },
  {
   "cell_type": "code",
   "execution_count": null,
   "metadata": {
    "collapsed": false
   },
   "outputs": [
    {
     "name": "stdout",
     "output_type": "stream",
     "text": [
      "Discriminator convolution input shape (784,)\n",
      "h0 shape : (1, 14, 14)\n",
      "h1 shape : (128, 7, 7)\n",
      "h2 shape : (32,)\n",
      "Generator input shape:  (32,)\n",
      "h1 shape (128, 7, 7)\n",
      "h2 shape (128, 14, 14)\n",
      "h3 shape : (1, 28, 28)\n",
      " average      since    average      since      examples\n",
      "    loss       last     metric       last              \n",
      " ------------------------------------------------------\n"
     ]
    },
    {
     "name": "stderr",
     "output_type": "stream",
     "text": [
      "C:\\Users\\serajago.FAREAST\\AppData\\Local\\Continuum\\Anaconda3\\lib\\site-packages\\cntk\\learners\\__init__.py:340: RuntimeWarning: When providing the schedule as a number, epoch_size is ignored\n",
      "  warnings.warn('When providing the schedule as a number, epoch_size is ignored', RuntimeWarning)\n"
     ]
    },
    {
     "name": "stdout",
     "output_type": "stream",
     "text": [
      "Learning rate per 1 samples: 3e-05\n",
      "      181        181      0.769      0.769            64\n",
      "      181        181      0.727      0.706           192\n",
      "      181        181      0.842      0.928           448\n",
      "      181        181      0.926          1           960\n",
      "      180        179      0.964          1          1984\n",
      "      160        141      0.982          1          4032\n",
      "      111       62.6      0.759      0.539          8128\n"
     ]
    }
   ],
   "source": [
    "train_file = create_reader_mnist(os.path.join(data_dir + '\\Train-28x28_cntk_text.txt'), True)    \n",
    "\n",
    "train(train_file, None)"
   ]
  },
  {
   "cell_type": "code",
   "execution_count": 130,
   "metadata": {
    "collapsed": false
   },
   "outputs": [],
   "source": [
    "train = create_reader_mnist(os.path.join(data_dir + '\\Train-28x28_cntk_text.txt'), False)\n",
    "data = train.next_minibatch(1)"
   ]
  },
  {
   "cell_type": "code",
   "execution_count": 129,
   "metadata": {
    "collapsed": false
   },
   "outputs": [
    {
     "name": "stdout",
     "output_type": "stream",
     "text": [
      "Discriminator convolution input shape (1, 1, 784)\n",
      "h0 shape : (1, 14, 14)\n",
      "h1 shape : (128, 7, 7)\n",
      "h2 shape : (32,)\n",
      "Generator input shape:  (32,)\n",
      "h1 shape (128, 7, 7)\n",
      "h2 shape (128, 14, 14)\n",
      "h3 shape : (1, 28, 28)\n"
     ]
    },
    {
     "data": {
      "text/plain": [
       "Composite(Reshape):  -> Output('Reshape2367_Output_0', [], [784])"
      ]
     },
     "execution_count": 129,
     "metadata": {},
     "output_type": "execute_result"
    }
   ],
   "source": [
    "decoder(encoder(data[train.streams.input]))"
   ]
  },
  {
   "cell_type": "code",
   "execution_count": 83,
   "metadata": {
    "collapsed": false
   },
   "outputs": [
    {
     "data": {
      "image/png": "[encoded data removed]",
      "text/plain": [
       "<matplotlib.figure.Figure at 0x2592fcdc9b0>"
      ]
     },
     "metadata": {},
     "output_type": "display_data"
    }
   ],
   "source": [
    "plot_image(data[train.streams.input].data.asarray()[0,:,:].reshape(28,28))"
   ]
  },
  {
   "cell_type": "code",
   "execution_count": 65,
   "metadata": {
    "collapsed": false
   },
   "outputs": [
    {
     "ename": "TypeError",
     "evalue": "unhashable type: 'slice'",
     "output_type": "error",
     "traceback": [
      "\u001b[1;31m---------------------------------------------------------------------------\u001b[0m",
      "\u001b[1;31mTypeError\u001b[0m                                 Traceback (most recent call last)",
      "\u001b[1;32m<ipython-input-65-4f26469d7f44>\u001b[0m in \u001b[0;36m<module>\u001b[1;34m()\u001b[0m\n\u001b[1;32m----> 1\u001b[1;33m \u001b[0mdata\u001b[0m\u001b[1;33m[\u001b[0m\u001b[1;36m0\u001b[0m\u001b[1;33m,\u001b[0m\u001b[1;33m:\u001b[0m\u001b[1;33m,\u001b[0m\u001b[1;33m:\u001b[0m\u001b[1;33m]\u001b[0m\u001b[1;33m\u001b[0m\u001b[0m\n\u001b[0m",
      "\u001b[1;31mTypeError\u001b[0m: unhashable type: 'slice'"
     ]
    }
   ],
   "source": [
    "data[0,:,:]"
   ]
  }
 ],
 "metadata": {
  "kernelspec": {
   "display_name": "Python 3",
   "language": "python",
   "name": "python3"
  },
  "language_info": {
   "codemirror_mode": {
    "name": "ipython",
    "version": 3
   },
   "file_extension": ".py",
   "mimetype": "text/x-python",
   "name": "python",
   "nbconvert_exporter": "python",
   "pygments_lexer": "ipython3",
   "version": "3.5.2"
  }
 },
 "nbformat": 4,
 "nbformat_minor": 0
}
