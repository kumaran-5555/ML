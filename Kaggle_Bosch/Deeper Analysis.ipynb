{
 "cells": [
  {
   "cell_type": "code",
   "execution_count": 2,
   "metadata": {
    "collapsed": false,
    "scrolled": true
   },
   "outputs": [
    {
     "data": {
      "text/html": [
       "<div>\n",
       "<table border=\"1\" class=\"dataframe\">\n",
       "  <thead>\n",
       "    <tr style=\"text-align: right;\">\n",
       "      <th></th>\n",
       "      <th>Id</th>\n",
       "      <th>L0_S0_F0</th>\n",
       "      <th>L0_S0_F2</th>\n",
       "      <th>L0_S0_F4</th>\n",
       "      <th>L0_S0_F6</th>\n",
       "      <th>L0_S0_F8</th>\n",
       "      <th>L0_S0_F10</th>\n",
       "      <th>L0_S0_F12</th>\n",
       "      <th>L0_S0_F14</th>\n",
       "      <th>L0_S0_F16</th>\n",
       "      <th>...</th>\n",
       "      <th>S35_Max</th>\n",
       "      <th>S8_Max</th>\n",
       "      <th>S13_Max</th>\n",
       "      <th>S11_Max</th>\n",
       "      <th>S38_Max</th>\n",
       "      <th>S43_Max</th>\n",
       "      <th>S29_Max</th>\n",
       "      <th>S34_Max</th>\n",
       "      <th>S45_Max</th>\n",
       "      <th>Duration</th>\n",
       "    </tr>\n",
       "  </thead>\n",
       "  <tbody>\n",
       "    <tr>\n",
       "      <th>0</th>\n",
       "      <td>4</td>\n",
       "      <td>0.030</td>\n",
       "      <td>-0.034</td>\n",
       "      <td>-0.197</td>\n",
       "      <td>-0.179</td>\n",
       "      <td>0.118</td>\n",
       "      <td>0.116</td>\n",
       "      <td>-0.015</td>\n",
       "      <td>-0.032</td>\n",
       "      <td>0.020</td>\n",
       "      <td>...</td>\n",
       "      <td>NaN</td>\n",
       "      <td>82.27</td>\n",
       "      <td>NaN</td>\n",
       "      <td>NaN</td>\n",
       "      <td>NaN</td>\n",
       "      <td>NaN</td>\n",
       "      <td>NaN</td>\n",
       "      <td>NaN</td>\n",
       "      <td>NaN</td>\n",
       "      <td>87.29</td>\n",
       "    </tr>\n",
       "    <tr>\n",
       "      <th>1</th>\n",
       "      <td>6</td>\n",
       "      <td>NaN</td>\n",
       "      <td>NaN</td>\n",
       "      <td>NaN</td>\n",
       "      <td>NaN</td>\n",
       "      <td>NaN</td>\n",
       "      <td>NaN</td>\n",
       "      <td>NaN</td>\n",
       "      <td>NaN</td>\n",
       "      <td>NaN</td>\n",
       "      <td>...</td>\n",
       "      <td>NaN</td>\n",
       "      <td>NaN</td>\n",
       "      <td>NaN</td>\n",
       "      <td>NaN</td>\n",
       "      <td>NaN</td>\n",
       "      <td>NaN</td>\n",
       "      <td>NaN</td>\n",
       "      <td>NaN</td>\n",
       "      <td>NaN</td>\n",
       "      <td>1315.75</td>\n",
       "    </tr>\n",
       "    <tr>\n",
       "      <th>2</th>\n",
       "      <td>7</td>\n",
       "      <td>0.088</td>\n",
       "      <td>0.086</td>\n",
       "      <td>0.003</td>\n",
       "      <td>-0.052</td>\n",
       "      <td>0.161</td>\n",
       "      <td>0.025</td>\n",
       "      <td>-0.015</td>\n",
       "      <td>-0.072</td>\n",
       "      <td>-0.225</td>\n",
       "      <td>...</td>\n",
       "      <td>NaN</td>\n",
       "      <td>1618.73</td>\n",
       "      <td>NaN</td>\n",
       "      <td>NaN</td>\n",
       "      <td>NaN</td>\n",
       "      <td>NaN</td>\n",
       "      <td>NaN</td>\n",
       "      <td>NaN</td>\n",
       "      <td>NaN</td>\n",
       "      <td>1624.42</td>\n",
       "    </tr>\n",
       "    <tr>\n",
       "      <th>3</th>\n",
       "      <td>9</td>\n",
       "      <td>-0.036</td>\n",
       "      <td>-0.064</td>\n",
       "      <td>0.294</td>\n",
       "      <td>0.330</td>\n",
       "      <td>0.074</td>\n",
       "      <td>0.161</td>\n",
       "      <td>0.022</td>\n",
       "      <td>0.128</td>\n",
       "      <td>-0.026</td>\n",
       "      <td>...</td>\n",
       "      <td>NaN</td>\n",
       "      <td>1149.22</td>\n",
       "      <td>NaN</td>\n",
       "      <td>NaN</td>\n",
       "      <td>NaN</td>\n",
       "      <td>NaN</td>\n",
       "      <td>NaN</td>\n",
       "      <td>NaN</td>\n",
       "      <td>NaN</td>\n",
       "      <td>1154.16</td>\n",
       "    </tr>\n",
       "    <tr>\n",
       "      <th>4</th>\n",
       "      <td>11</td>\n",
       "      <td>-0.055</td>\n",
       "      <td>-0.086</td>\n",
       "      <td>0.294</td>\n",
       "      <td>0.330</td>\n",
       "      <td>0.118</td>\n",
       "      <td>0.025</td>\n",
       "      <td>0.030</td>\n",
       "      <td>0.168</td>\n",
       "      <td>-0.169</td>\n",
       "      <td>...</td>\n",
       "      <td>NaN</td>\n",
       "      <td>602.67</td>\n",
       "      <td>NaN</td>\n",
       "      <td>NaN</td>\n",
       "      <td>NaN</td>\n",
       "      <td>NaN</td>\n",
       "      <td>NaN</td>\n",
       "      <td>NaN</td>\n",
       "      <td>NaN</td>\n",
       "      <td>606.02</td>\n",
       "    </tr>\n",
       "  </tbody>\n",
       "</table>\n",
       "<p>5 rows × 1037 columns</p>\n",
       "</div>"
      ],
      "text/plain": [
       "   Id  L0_S0_F0  L0_S0_F2  L0_S0_F4  L0_S0_F6  L0_S0_F8  L0_S0_F10  L0_S0_F12  \\\n",
       "0   4     0.030    -0.034    -0.197    -0.179     0.118      0.116     -0.015   \n",
       "1   6       NaN       NaN       NaN       NaN       NaN        NaN        NaN   \n",
       "2   7     0.088     0.086     0.003    -0.052     0.161      0.025     -0.015   \n",
       "3   9    -0.036    -0.064     0.294     0.330     0.074      0.161      0.022   \n",
       "4  11    -0.055    -0.086     0.294     0.330     0.118      0.025      0.030   \n",
       "\n",
       "   L0_S0_F14  L0_S0_F16    ...     S35_Max   S8_Max  S13_Max  S11_Max  \\\n",
       "0     -0.032      0.020    ...         NaN    82.27      NaN      NaN   \n",
       "1        NaN        NaN    ...         NaN      NaN      NaN      NaN   \n",
       "2     -0.072     -0.225    ...         NaN  1618.73      NaN      NaN   \n",
       "3      0.128     -0.026    ...         NaN  1149.22      NaN      NaN   \n",
       "4      0.168     -0.169    ...         NaN   602.67      NaN      NaN   \n",
       "\n",
       "   S38_Max  S43_Max  S29_Max  S34_Max  S45_Max  Duration  \n",
       "0      NaN      NaN      NaN      NaN      NaN     87.29  \n",
       "1      NaN      NaN      NaN      NaN      NaN   1315.75  \n",
       "2      NaN      NaN      NaN      NaN      NaN   1624.42  \n",
       "3      NaN      NaN      NaN      NaN      NaN   1154.16  \n",
       "4      NaN      NaN      NaN      NaN      NaN    606.02  \n",
       "\n",
       "[5 rows x 1037 columns]"
      ]
     },
     "execution_count": 2,
     "metadata": {},
     "output_type": "execute_result"
    }
   ],
   "source": [
    "import pickle\n",
    "import pandas as pd\n",
    "import numpy as np\n",
    "import seaborn as sb\n",
    "\n",
    "date = pickle.load(open(r'E:\\Git\\ML\\Kaggle_Bosch\\Data\\train_minmax.pkl', 'rb'))\n",
    "\n",
    "date = date.iloc[:500000,:]\n",
    "\n",
    "num = pd.read_csv(r'E:\\Git\\ML\\Kaggle_Bosch\\Data\\train_numeric.csv', nrows=500000)\n",
    "\n",
    "data = num.merge(date, on =['Id'])\n",
    "\n",
    "data.head()"
   ]
  },
  {
   "cell_type": "code",
   "execution_count": 4,
   "metadata": {
    "collapsed": true
   },
   "outputs": [],
   "source": [
    "pos = data[data['Response']==1]\n",
    "\n",
    "\n",
    "min = pos.min(axis=0)\n",
    "max = pos.max(axis=0)"
   ]
  },
  {
   "cell_type": "code",
   "execution_count": 1,
   "metadata": {
    "collapsed": false,
    "scrolled": true
   },
   "outputs": [
    {
     "ename": "NameError",
     "evalue": "name 'data' is not defined",
     "output_type": "error",
     "traceback": [
      "\u001b[1;31m---------------------------------------------------------------------------\u001b[0m",
      "\u001b[1;31mNameError\u001b[0m                                 Traceback (most recent call last)",
      "\u001b[1;32m<ipython-input-1-975de53d2d35>\u001b[0m in \u001b[0;36m<module>\u001b[1;34m()\u001b[0m\n\u001b[0;32m      4\u001b[0m \u001b[0mc\u001b[0m \u001b[1;33m=\u001b[0m \u001b[1;34m'L3_S30_F3759'\u001b[0m\u001b[1;33m\u001b[0m\u001b[0m\n\u001b[0;32m      5\u001b[0m \u001b[1;33m\u001b[0m\u001b[0m\n\u001b[1;32m----> 6\u001b[1;33m \u001b[0mfeatures\u001b[0m \u001b[1;33m=\u001b[0m \u001b[1;33m[\u001b[0m\u001b[0mf\u001b[0m \u001b[1;32mfor\u001b[0m \u001b[0mf\u001b[0m \u001b[1;32min\u001b[0m \u001b[0mdata\u001b[0m\u001b[1;33m.\u001b[0m\u001b[0mcolumns\u001b[0m\u001b[1;33m.\u001b[0m\u001b[0mvalues\u001b[0m \u001b[1;32mif\u001b[0m \u001b[0mf\u001b[0m\u001b[1;33m.\u001b[0m\u001b[0mstartswith\u001b[0m\u001b[1;33m(\u001b[0m\u001b[1;34m'L'\u001b[0m\u001b[1;33m)\u001b[0m\u001b[1;33m]\u001b[0m\u001b[1;33m\u001b[0m\u001b[0m\n\u001b[0m\u001b[0;32m      7\u001b[0m \u001b[1;33m\u001b[0m\u001b[0m\n\u001b[0;32m      8\u001b[0m \u001b[1;32mfor\u001b[0m \u001b[0mc\u001b[0m \u001b[1;32min\u001b[0m \u001b[0mfeatures\u001b[0m\u001b[1;33m[\u001b[0m\u001b[1;33m:\u001b[0m\u001b[1;36m100\u001b[0m\u001b[1;33m]\u001b[0m\u001b[1;33m:\u001b[0m\u001b[1;33m\u001b[0m\u001b[0m\n",
      "\u001b[1;31mNameError\u001b[0m: name 'data' is not defined"
     ]
    }
   ],
   "source": [
    "%matplotlib inline\n",
    "import matplotlib.pyplot as plt\n",
    "\n",
    "c = 'L3_S30_F3759'\n",
    "\n",
    "features = [f for f in data.columns.values if f.startswith('L')]\n",
    "\n",
    "for c in features[:100]:\n",
    "    try:\n",
    "        _, ax = plt.subplots(1,1,figsize=(15,4))\n",
    "        ax.set_title(c)\n",
    "        data[(data[c] > min[c]) & (data[c] < max[c]) & (data['Response']==1)][c].plot.hist(alpha=0.4, color='r', ax=ax, bins=200, log=True)\n",
    "        data[(data[c] > min[c]) & (data[c] < max[c]) & (data['Response']==0)][c].plot.hist(alpha=0.4, color='b', ax=ax,bins=200, log=True)\n",
    "\n",
    "        #plt.show()\n",
    "        break\n",
    "    except:\n",
    "        continue\n",
    "    \n",
    "    "
   ]
  },
  {
   "cell_type": "code",
   "execution_count": 9,
   "metadata": {
    "collapsed": false
   },
   "outputs": [],
   "source": [
    "import pickle\n",
    "import pandas as pd\n",
    "import numpy as np\n",
    "import seaborn as sb\n",
    "\n",
    "\n",
    "date = pickle.load(open(r'E:\\Git\\ML\\Kaggle_Bosch\\Data\\train_minmax.pkl', 'rb'))\n",
    "date = pd.concat((date, pickle.load(open(r'E:\\Git\\ML\\Kaggle_Bosch\\Data\\test_minmax.pkl', 'rb'))))\n",
    "date['min'] = date.min(axis=1)\n",
    "\n",
    "date = date[['min', 'Id']]"
   ]
  },
  {
   "cell_type": "code",
   "execution_count": 32,
   "metadata": {
    "collapsed": false
   },
   "outputs": [],
   "source": [
    "t1 = pd.read_csv(r'E:\\Git\\ML\\Kaggle_Bosch\\Data\\train_numeric.csv', usecols=['Id','Response'])\n",
    "t2 =pd.read_csv(r'E:\\Git\\ML\\Kaggle_Bosch\\Data\\test_numeric.csv', usecols=['Id'])\n",
    "\n",
    "t2['Response'] = np.nan\n",
    "\n",
    "\n"
   ]
  },
  {
   "cell_type": "code",
   "execution_count": 33,
   "metadata": {
    "collapsed": false,
    "scrolled": true
   },
   "outputs": [
    {
     "data": {
      "text/html": [
       "<div>\n",
       "<table border=\"1\" class=\"dataframe\">\n",
       "  <thead>\n",
       "    <tr style=\"text-align: right;\">\n",
       "      <th></th>\n",
       "      <th>Id</th>\n",
       "      <th>Response</th>\n",
       "      <th>min</th>\n",
       "    </tr>\n",
       "  </thead>\n",
       "  <tbody>\n",
       "    <tr>\n",
       "      <th>0</th>\n",
       "      <td>4</td>\n",
       "      <td>0.0</td>\n",
       "      <td>0.0</td>\n",
       "    </tr>\n",
       "    <tr>\n",
       "      <th>1</th>\n",
       "      <td>6</td>\n",
       "      <td>0.0</td>\n",
       "      <td>0.0</td>\n",
       "    </tr>\n",
       "    <tr>\n",
       "      <th>2</th>\n",
       "      <td>7</td>\n",
       "      <td>0.0</td>\n",
       "      <td>0.0</td>\n",
       "    </tr>\n",
       "    <tr>\n",
       "      <th>3</th>\n",
       "      <td>9</td>\n",
       "      <td>0.0</td>\n",
       "      <td>0.0</td>\n",
       "    </tr>\n",
       "    <tr>\n",
       "      <th>4</th>\n",
       "      <td>11</td>\n",
       "      <td>0.0</td>\n",
       "      <td>0.0</td>\n",
       "    </tr>\n",
       "  </tbody>\n",
       "</table>\n",
       "</div>"
      ],
      "text/plain": [
       "   Id  Response  min\n",
       "0   4       0.0  0.0\n",
       "1   6       0.0  0.0\n",
       "2   7       0.0  0.0\n",
       "3   9       0.0  0.0\n",
       "4  11       0.0  0.0"
      ]
     },
     "execution_count": 33,
     "metadata": {},
     "output_type": "execute_result"
    }
   ],
   "source": [
    "t = pd.concat((t1,t2))\n",
    "\n",
    "t = t.merge(date, on=['Id'])\n",
    "t.head()"
   ]
  },
  {
   "cell_type": "code",
   "execution_count": 35,
   "metadata": {
    "collapsed": false,
    "scrolled": true
   },
   "outputs": [
    {
     "name": "stderr",
     "output_type": "stream",
     "text": [
      "C:\\Users\\serajago.FAREAST\\AppData\\Local\\Continuum\\Anaconda3\\lib\\site-packages\\ipykernel\\__main__.py:1: FutureWarning: sort(columns=....) is deprecated, use sort_values(by=.....)\n",
      "  if __name__ == '__main__':\n",
      "C:\\Users\\serajago.FAREAST\\AppData\\Local\\Continuum\\Anaconda3\\lib\\site-packages\\ipykernel\\__main__.py:2: FutureWarning: sort(columns=....) is deprecated, use sort_values(by=.....)\n",
      "  from ipykernel import kernelapp as app\n"
     ]
    }
   ],
   "source": [
    "t['leak1'] = t.sort(['min', 'Id'])['Id'].diff()\n",
    "t['leak2'] = t.sort(['min', 'Id'])['Id'][::-1].diff()"
   ]
  },
  {
   "cell_type": "code",
   "execution_count": 43,
   "metadata": {
    "collapsed": false,
    "scrolled": false
   },
   "outputs": [
    {
     "data": {
      "image/png": "[encoded data removed]",
      "text/plain": [
       "<matplotlib.figure.Figure at 0x23924bf2208>"
      ]
     },
     "metadata": {},
     "output_type": "display_data"
    }
   ],
   "source": [
    "_,ax = plt.subplots(1,1, figsize=(15,4))\n",
    "t[(t['Response']==1)]['leak1'].plot.hist(alpha=0.4, color='r', bins=100, ax=ax, log=True)\n",
    "t[(t['Response']==0)]['leak1'].plot.hist(alpha=0.4, color='b', bins=100, ax=ax,log=True)\n",
    "plt.show()"
   ]
  },
  {
   "cell_type": "code",
   "execution_count": 38,
   "metadata": {
    "collapsed": false
   },
   "outputs": [
    {
     "data": {
      "image/png": "[encoded data removed]",
      "text/plain": [
       "<matplotlib.figure.Figure at 0x239122d8198>"
      ]
     },
     "metadata": {},
     "output_type": "display_data"
    }
   ],
   "source": [
    "_,ax = plt.subplots(1,1, figsize=(15,4))\n",
    "t[(t['Response']==1) ]['leak2'].plot.hist(alpha=0.4, color='r', bins=100, ax=ax, log=True)\n",
    "t[(t['Response']==0)]['leak2'].plot.hist(alpha=0.4, color='b', bins=100, ax=ax,log=True)\n",
    "plt.show()"
   ]
  },
  {
   "cell_type": "code",
   "execution_count": 37,
   "metadata": {
    "collapsed": false
   },
   "outputs": [
    {
     "data": {
      "text/plain": [
       "0                1.0\n",
       "1                1.0\n",
       "2                1.0\n",
       "3                1.0\n",
       "4                1.0\n",
       "5                1.0\n",
       "6                1.0\n",
       "7               14.0\n",
       "8                1.0\n",
       "9                1.0\n",
       "10               1.0\n",
       "11               1.0\n",
       "12               1.0\n",
       "13               1.0\n",
       "14               1.0\n",
       "15               1.0\n",
       "16               1.0\n",
       "17               1.0\n",
       "18               1.0\n",
       "19               1.0\n",
       "20               2.0\n",
       "21               1.0\n",
       "22               1.0\n",
       "23               1.0\n",
       "24              27.0\n",
       "25               1.0\n",
       "26               1.0\n",
       "27               1.0\n",
       "28               1.0\n",
       "29        -2366975.0\n",
       "             ...    \n",
       "2367465          1.0\n",
       "2367466          1.0\n",
       "2367467          2.0\n",
       "2367468          1.0\n",
       "2367469          1.0\n",
       "2367470          6.0\n",
       "2367471          2.0\n",
       "2367472          2.0\n",
       "2367473          1.0\n",
       "2367474          1.0\n",
       "2367475          1.0\n",
       "2367476          6.0\n",
       "2367477          1.0\n",
       "2367478          1.0\n",
       "2367479          1.0\n",
       "2367480         10.0\n",
       "2367481          1.0\n",
       "2367482       4629.0\n",
       "2367483          5.0\n",
       "2367484          1.0\n",
       "2367485          1.0\n",
       "2367486          1.0\n",
       "2367487          2.0\n",
       "2367488          1.0\n",
       "2367489          1.0\n",
       "2367490          1.0\n",
       "2367491          2.0\n",
       "2367492          1.0\n",
       "2367493          1.0\n",
       "2367494          1.0\n",
       "Name: leak1, dtype: float64"
      ]
     },
     "execution_count": 37,
     "metadata": {},
     "output_type": "execute_result"
    }
   ],
   "source": [
    "t['leak1']"
   ]
  }
 ],
 "metadata": {
  "kernelspec": {
   "display_name": "Python 3",
   "language": "python",
   "name": "python3"
  },
  "language_info": {
   "codemirror_mode": {
    "name": "ipython",
    "version": 3
   },
   "file_extension": ".py",
   "mimetype": "text/x-python",
   "name": "python",
   "nbconvert_exporter": "python",
   "pygments_lexer": "ipython3",
   "version": "3.5.2"
  }
 },
 "nbformat": 4,
 "nbformat_minor": 0
}
