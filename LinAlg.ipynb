{
 "cells": [
  {
   "cell_type": "markdown",
   "metadata": {},
   "source": [
    "# Linear Algebra Bits\n",
    "## Vectors\n",
    "\n",
    "Points in $R^n$ space. For example, any real number is vector in $R$, any tuple of form $(x, y)$ is a vector in $R^2$.\n",
    "\n",
    "In general, vector in $R^n$ can be represented as tuple of $n$ points in $R$.\n",
    "\n",
    "We use $x \\in R^n$ to represent a vector in $R^n$. We use $n$ to denote dimension and $m$ to number of vectors.\n",
    "\n",
    "## Independent vectors\n",
    "\n",
    "A set of vectors $\\{x_1,x_2,...x_m\\}$ in $R^n$ is independent if no vector can be created by using other vectors with adding and scalar muliplication operation. $\\sum_1^m a_i x_i =0 \\implies a_i = 0  \\forall  i$\n",
    "\n",
    "## Vector Subspace\n",
    "\n",
    "Vector subspace is subspace of all points which are closed under addition and scalar mupliplication. I.e. if $x , y \\in S$ where $S \\subseteq R^n$, then for $a, b \\in R$, $ax + by \\in S$"
   ]
  },
  {
   "cell_type": "code",
   "execution_count": null,
   "metadata": {
    "collapsed": true
   },
   "outputs": [],
   "source": [
    "# add graph for subspace\n"
   ]
  },
  {
   "cell_type": "markdown",
   "metadata": {},
   "source": [
    "## Basis of subspace\n",
    "Any subspace $S \\subseteq R^n$ can be represented using set of independent vectors $\\{x_1,x_2,...x_m\\}$ in $R^n$. The dimension of basis is rank of the subspace.\n",
    "\n",
    "## Dot product\n",
    "\n",
    "## Norm \n",
    "\n",
    "## Gram-Schmidt procedure \n",
    "\n",
    "## Hyperplanes\n",
    "\n",
    "\n",
    "## Linear functions"
   ]
  }
 ],
 "metadata": {
  "kernelspec": {
   "display_name": "Python 3",
   "language": "python",
   "name": "python3"
  },
  "language_info": {
   "codemirror_mode": {
    "name": "ipython",
    "version": 3
   },
   "file_extension": ".py",
   "mimetype": "text/x-python",
   "name": "python",
   "nbconvert_exporter": "python",
   "pygments_lexer": "ipython3",
   "version": "3.5.1"
  }
 },
 "nbformat": 4,
 "nbformat_minor": 0
}
