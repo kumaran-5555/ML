{
 "cells": [
  {
   "cell_type": "code",
   "execution_count": 2,
   "metadata": {
    "collapsed": true
   },
   "outputs": [],
   "source": [
    "import pandas as pd\n",
    "import numpy as np\n",
    "import sklearn\n",
    "import pickle\n"
   ]
  },
  {
   "cell_type": "code",
   "execution_count": 119,
   "metadata": {
    "collapsed": false
   },
   "outputs": [
    {
     "name": "stderr",
     "output_type": "stream",
     "text": [
      "C:\\Users\\serajago\\AppData\\Local\\Continuum2\\Anaconda3\\lib\\site-packages\\IPython\\core\\interactiveshell.py:2717: DtypeWarning: Columns (2,8,17,33) have mixed types. Specify dtype option on import or set low_memory=False.\n",
      "  interactivity=interactivity, compiler=compiler, result=result)\n"
     ]
    }
   ],
   "source": [
    "data = pd.read_csv(r'Data\\train.tsv', delimiter='\\t', parse_dates=True)"
   ]
  },
  {
   "cell_type": "code",
   "execution_count": 120,
   "metadata": {
    "collapsed": false
   },
   "outputs": [
    {
     "data": {
      "text/plain": [
       "(1347190, 1085)"
      ]
     },
     "execution_count": 120,
     "metadata": {},
     "output_type": "execute_result"
    }
   ],
   "source": [
    "data.shape"
   ]
  },
  {
   "cell_type": "code",
   "execution_count": 121,
   "metadata": {
    "collapsed": true
   },
   "outputs": [],
   "source": [
    "intTypes = ['LifeTimeImpressionCount','LifeTimeConversionCount','RecentMonthConversionCount','ProcessorCores','ProcessorPhysicalCores','PrimaryDiskTotalCapacity','TotalPhysicalRAM','InternalPrimaryDisplayLogicalDPIX','InternalPrimaryDisplayLogicalDPIY','InternalPrimaryDisplayResolutionHorizontal','InternalPrimaryDisplayResolutionVertical','NumberofInternalDisplays','NumberofExternalDisplays','FrontFacingCameraResolution','ProcessorClockSpeed','Days_chrome_exe','Days_microsoft_microsoftedge','Days_firefox_exe','Days_explorer_exe','Days_iexplore_exe','Days_winword_exe','Days_leagueoflegends_exe','Days_excel_exe','Days_360chrome_exe','Days_outlook_exe','Days_vlc_exe','Days_microsoft_lockapp','Days_logonui_exe','Days_browser_exe','Days_microsoft_zunevideo','Days_opera_exe','Days_skype_exe','Days_microsoft_microsoftsolitairecollection','Days_powerpnt_exe','Days_javaw_exe','Days_flashplayerplugin_allversions__exe','Days_microsoft_windows_shellexperiencehost','Days_qq_exe','Days_mstsc_exe','Days_csgo_exe','Days_dota_exe','Days_acrord32_exe','Time_microsoft_basicattractloop','Days_microsoft_basicattractloop','Days_qyplayer_exe','Days_wow_exe','Days_overwatch_exe','Days_wmplayer_exe','Days_dwm_exe','Days_microsoft_windows_photos','Days_stormplayer_exe','Days_4df9e0f8_netflix','Days_worldoftanks_exe','Days_photoshop_exe','Days_acad_exe','Days_hearthstone_exe','Days_diabloiii_exe','Days_qqlive_exe','Days_youkudesktop_exe','Days_microsoft_windows_cortana','Days_steam_exe','Days_qqbrowser_exe','Days_gom_exe','Days_robloxplayerbeta_exe','Days_sogouexplorer_exe','Days_applicationframehost_exe','Days_xmp_exe','Days_wfica32_exe','Days_wps_exe','Days_dnf_exe','Days_wechat_exe','Days_mpc_hc64_exe','Days_kodi_exe','Days_wlmail_exe','Days_qyclient_exe','Days_thunderbird_exe','Days_game_exe','Days_hd_frontend_exe','Days_devenv_exe','Days_itunes_exe','Days_et_exe','Days_spotify_exe','Days_liebao_exe','Days_windows_immersivecontrolpanel','Days_gta5_exe','Days_hl2_exe','Days_maxthon_exe','Days_notepad_exe','Days_microsoft_windowslive_mail','Days_soffice_exe','Days_king_com_candycrushsodasaga','Days_war3_exe','Days_popcorntimedesktop_exe','Time_5319275a_whatsapp','Days_5319275a_whatsapp','Days_client_exe','Days_teamviewer_exe','Days_mpc_hc_exe','Days_winlogon_exe','Days_shootergame_exe','Time_5b04b775_356b_4aa0_aaf8_6491ffea5602','Days_5b04b775_356b_4aa0_aaf8_6491ffea5602','Days_rundll32_exe','Days_syntpenh_exe','Days_ucbrowser_exe','Days_fallout4_exe','Time_bo3submission','Days_bo3submission','Days_facebook_facebook','Days_darksoulsiii_exe','Days_utorrent_exe','Days_bsplayer_exe','Days_pplive_exe','Days_360tray_exe','Days_crossfire_exe','Days_2345explorer_exe','Days_fm_exe','Days_illustrator_exe','Days_qbw32_exe','Days_mcuicnt_exe','Days_acrobat_exe','Days_blackdesert64_exe','Days_tdxw_exe','Days_hwp_exe','Days_aliworkbench_exe','Days_tesv_exe','Days_ts4_x64_exe','Days_king_com_candycrushsaga','Days_heroesofthestorm_x64_exe','Days_kmplayer_exe','Days_microsoft_zunemusic','Days_spark_exe','Days_jp2launcher_exe','Days_mspaint_exe','Days_rocketleague_exe','Days_microsoft_windowscalculator','Days_powerdvd_exe','Days_potplayermini64_exe','Days_stellaris_exe','Days_msaccess_exe','Days_amigo_exe','Days_civilizationv_dx11_exe','Days_coreldrw_exe','Days_pokerstars_exe','Days_thedivision_exe','Days_potplayer_exe','Days_worldofwarships_exe','Days_conhost_exe','Days_kugou_exe','Days_gta_sa_exe','Days_hl_exe','Days_aolbrowser_exe','Days_witcher3_exe','Days_smite_exe','Days_java_exe','Days_torch_exe','Days_potplayermini_exe','Days_microsoft_windowsstore','Days_line_exe','Days_jx3clientx64_exe','Days_warframe_x64_exe','Days_kakaotalk_exe','Days_lync_exe','Days_letvloader_exe','Days_aces_exe','Days_rustclient_exe','Days_bf4_exe','Time_fifazf_ww','Days_fifazf_ww','Days_pes2016_exe','Days_wordpad_exe','Days_fifazf_exe','Days_qqplayer_exe','Days_powerdvd10_exe','Time_gta_v','Days_gta_v','Days_mhmain_exe','Days_microsoft_getstarted','Time_huluplus','Days_huluplus','Days_eclipse_exe','Days_softwareupdate_exe','Days_wpp_exe','Time_youtube','Days_youtube','Days_sc2_x64_exe','Days_ieproc_exe','Days_fifa16_exe','Days_sketchup_exe','Days_notepadplusplus_exe','Days_arma3_exe','Days_microsoft_bingnews','Time_nba_2k16','Days_nba_2k16','Days_swtor_exe','Days_wuxia_client_exe','Days_warhammer_exe','Days_microsoft_windowsdvdplayer','Days_battle_net_exe','Days_imvuclient_exe','Days_onenote_exe','Days_microsoft_messaging','Time_destiny','Days_destiny','Days_stikynot_exe','Days_thunder_exe','Days_vmware_exe','Days_eurotrucks2_exe','Days_ts3client_win64_exe','Days_screensaver_exe','Time_xboxui_exe','Days_xboxui_exe','Days_xfplay_exe','Days_26720randomsaladgamesllc_simplesolitaire','Days_client_tos_exe','Days_virtualbox_exe','Days_lightroom_exe','Time_tctdww046dcb16','Days_tctdww046dcb16','Days_moviemaker_exe','Days_maplestory_exe','Days_rainbowsix_exe','Days_adobepremierepro_exe','Days_gw2_64_exe','Days_lockapphost_exe','Days_terminal_exe','Days_consent_exe','Time_institute','Days_institute','Days_gameloftsa_asphalt8airborne','Days_microsoft_microsoftmahjong','Days_foxitreader_exe','Days_ts3_exe','Days_hexin_exe','Days_dllhost_exe','Days_microsoft_windows_cloudexperiencehost','Days_elementclient_exe','Days_telegram_exe','Days_ts4_exe','Days_microsoft_microsoftjigsaw','Time_netflix','Days_netflix','Time_58990adventapps_dcstoredemo','Days_58990adventapps_dcstoredemo','Days_rs2client_exe','Days_blackops3_exe','Days_qyfragment_exe','Days_qybrowser_exe','Days_mspub_exe','Days_gameapp_exe','Days_indesign_exe','Days_sldworks_exe','Days_hd_plus_frontend_exe','Days_farmingsimulator2015game_exe','Days_terraria_exe','Days_foxmail_exe','Days_facebook_317180b0bb486','Days_avastui_exe','Days_taskmgr_exe','Days_ffxiv_dx11_exe','Days_ts3w_exe','Days_3dsmax_exe','Days_osbuddy_exe','Days_tgame_exe','Days_jagexlauncher_exe','Days_discord_exe','Days_tera_exe','Days_avgui_exe','Days_geeplayer_exe','Days_baiduyunguanjia_exe','Days_acadlt_exe','Days_ffxiv_exe','Days_sublime_text_exe','Days_firestorm_bin_exe','Days_pickerhost_exe','Days_dofus_exe','Days_hlddzsdk_exe','Days_stardewvalley_exe','Days_putty_exe','Days_tgp_daemon_exe','Days_aliim_exe','Days_matlab_exe','Days_qw_exe','Days_cbox_exe','Time_msoobe_exe','Days_msoobe_exe','Days_qqmusic_exe','Days_studio64_exe','Days_powerdvdmovie_exe','Days_ssms_exe','Days_mmc_exe','Days_idman_exe','Days_exefile_exe','Days_waol_exe','Days_virtualdj8_exe','Days_unturned_exe','Days_yy_exe','Days_qqpcrealtimespeedup_exe','Days_nw_exe','Days_vivaldi_exe','Days_doomx64_exe','Days_fifa15_exe','Days_googleearth_exe','Days_sai_exe','Time_xbox_home','Days_xbox_home','Days_microsoft_commsphone','Days_gw2_exe','Days_revit_exe','Days_eso_exe','Days_cosclient_exe','Time_minecraft','Days_minecraft','Days_fifa14_exe','Days_zona_exe','Days_baidubrowser_exe','Days_gameclient_exe','Days_werfault_exe','Days_winwordc_exe','Days_setup_exe','Days_winrar_exe','Time_xbox_browser','Days_xbox_browser','Days_dqxgame_exe','Days_pointblank_exe','Time_arksurvivalevolved','Days_arksurvivalevolved','Days_main_exe','Days_viber_exe','Days_nox_exe','Days_pso2_exe','Days_mb_warband_exe','Days_lolpatcherux_exe','Days_saplogon_exe','Days_c6965dd5_vk','Days_123freesolitaire_exe','Days_eu4_exe','Days_360safe_exe','Days_microsoft_reader','Days_ddzrpg_exe','Days_hulullc_huluplus','Days_nba2konline_exe','Days_fl_exe','Days_dontstarve_steam_exe','Days_vmware_view_exe','Days_king_com_candycrushjellysaga','Days_hao123juzi_exe','Days_csrss_exe','Days_theworld_exe','Days_microsoft_windowscamera','Days_hon_exe','Days_waterfox_exe','Days_archeage_exe','Days_engine_exe','Days_qtalk_exe','Days_codomp_client_shipretail_exe','Days_qqgamehall_exe','Days_szbrowser_exe','Days_h1z1_exe','Days_googleinc_googlesearch','Time_tencentwechatlimited_380366539085c','Days_tencentwechatlimited_380366539085c','Days_civilizationv_exe','Days_dreamweaver_exe','Days_ccleaner64_exe','Days_avimark_exe','Days_isaac_ng_exe','Days_pallas_exe','Days_svui_exe','Days_360ap_exe','Days_ace_player_exe','Days_microsoft_minecraftuwp','Days_shplayer_exe','Days_spider_exe','Days_cnqmmain_exe','Days_iptvplayer_exe','Days_osu__exe','Days_windows_printdialog','Days_archicad_exe','Days_pcdrcui_exe','Days_borderlands2_exe','Days_pes2013_exe','Days_splayer_exe','Days_afterfx_exe','Days_mediaget_exe','Days_360sd_exe','Days_left4dead2_exe','Days_microsoft_office_onenote','Days_x2_exe','Days_qqx51_game_exe','Days_vmplayer_exe','Days_360game_exe','Time_xbox_guide','Days_xbox_guide','Days_picasa3_exe','Days_origin_exe','Days_factorio_exe','Days_ximadinc_magicpuzzles','Days_speed_exe','Days_rome2_exe','Days_softmgrlite_exe','Days_popcapgame1_exe','Days_nba2k16_exe','Days_servicehostapp_exe','Days_xcom2_exe','Days_newsjrpg_exe','Days_msdt_exe','Days_cloudmusic_exe','Days_browser7_exe','Days_netbeans64_exe','Days_ktpcntr_exe','Time_bfx','Days_bfx','Days_hunantv_exe','Days_dragonnest_exe','Days_bittorrent_exe','Days_wizardgraphicalclient_exe','Days_openwith_exe','Time_darksoulsiii','Days_darksoulsiii','Time_halo5_guardians','Days_halo5_guardians','Days_microsoft_xboxapp','Days_suddenattack_exe','Time_r6siegeww373d69b4','Days_r6siegeww373d69b4','Days_26720randomsaladgamesllc_heartsdeluxe','Days_cities_exe','Days_mymain_exe','Days_youkupage_exe','Days_stremio_exe','Days_huyagamelive_exe','Days_payday2_win32_release_exe','Days_1cv8_exe','Days_vegas130_exe','Days_qqexternal_exe','Days_wlxphotogallery_exe','Days_9e2f88e3_twitter','Days_mainfree_exe','Days_kxetray_exe','Days_tibia_exe','Days_d52a8d61_farmville2countryescape','Days_7458be2c_worldoftanksblitz','Days_armoredwarfare_exe','Days_plantsvszombies_exe','Days_pathofexile_exe','Days_l2_exe','Days_nlnotes_exe','Days_facebook_instagrambeta','Days_darksouls_exe','Days_qqyxs_exe','Days_crossproxy_exe','Days_0c72c7cd_217379cb4ae6f','Days_pcsws_exe','Days_photoshopelementseditor_exe','Days_winamp_exe','Time_madden16','Days_madden16','Days_g2mcomm_exe','Days_slack_exe','Days_unity_exe','Days_foxitphantompdf_exe','Days_sllauncher_exe','Days_visio_exe','Days_ffx_exe','Days_kdesk64_exe','Days_onedrive_exe','Days_aokhd_exe','Days_junqirpg_exe','Days_pallas_render_exe','Days_nba2k14_exe','Days_mshta_exe','Days_bytefence_exe','Days_microsoft_people','Days_robocraftclient_exe','Days_7daystodie_exe','Days_qqpctray_exe','Days_yahoomessenger_exe','Days_avpui_exe','Days_incmail_exe','Days_audacity_exe','Days_tally_exe','Days_stationtv_x_exe','Days_navermediaplayer_exe','Days_virtualdj_pro_exe','Days_dayz_exe','Days_msiexec_exe','Days_mhoclient_exe','Days_darksoulsii_exe','Days_poker_exe','Days_wotlauncher_exe','Days_droid4x_exe','Days_facebookgames_exe','Days_battleborn_exe','Days_launcher_exe','Days_farcry4_exe','Days_0c72c7cd_beta','Days_ava_exe','Days_gimp_2_8_exe','Time_roblox','Days_roblox','Days_clipstudiopaint_exe','Days_dragonageinquisition_exe','Days_kwmusic_exe','Days_musnotificationux_exe','Days_ts3client_win32_exe','Days_trove_exe','Days_microsoft_bingweather','Days_canalgroupe_canaltouch','Days_cnqmswcs_exe','Days_chnchess_exe','Days_xy2_exe','Days_microsoft_windowsmaps','Time_2a4e62d8_8809_4787_89f8_69d0f01654fb','Days_2a4e62d8_8809_4787_89f8_69d0f01654fb','Days_msascui_exe','Days_dragon_exe','Days_totalcmd64_exe','Days_elitedangerous64_exe','Days_gacrunner_exe','Time_smite','Days_smite','Days_wowslauncher_exe','Days_spidersolitaire_exe','Days_whatsapp_exe','Days_rdcman_exe','Days_pathofexilesteam_exe','Days_cstrike_online_exe','Days_snippingtool_exe','Days_naver_linewin8','Days_lotroclient_exe','Days_dyinglightgame_exe','Days_tkmc_exe','Days_freespider_exe','Days_rhino_exe','Days_youtuberslife_exe','Days_pptview_exe','Days_tabgame_exe','Days_civilizationv_tablet_exe','Days_acs_exe','Days_evernote_exe','Days_kindle_exe','Days_aplayer_exe','Days_ycmmirage_exe','Days_cboxservice_exe','Time_microsoft_windows_photomanager','Days_microsoft_windows_photomanager','TotalDays','IsMalware','Days_Accessibility','Days_Browser','Days_Communications','Days_Content','Days_DevTools','Days_Games','Days_Malware','Days_Media','Days_PersonalProductivity','Days_Readers','Days_Search','Days_Social','Days_StudentAndLearning','Days_ModernApps','Days_Games_Core','Days_Games_Casual']"
   ]
  },
  {
   "cell_type": "code",
   "execution_count": 122,
   "metadata": {
    "collapsed": false
   },
   "outputs": [
    {
     "data": {
      "text/plain": [
       "565"
      ]
     },
     "execution_count": 122,
     "metadata": {},
     "output_type": "execute_result"
    }
   ],
   "source": [
    "len(intTypes)"
   ]
  },
  {
   "cell_type": "code",
   "execution_count": 123,
   "metadata": {
    "collapsed": true
   },
   "outputs": [],
   "source": [
    "catTypes = ['BubbleShownTime','CampaignId','creativeName','ISOCountryShortName','FirstUpdatedDate','DefaultInternetBrowser','OSOOBEDateTime','IsDomainJoined','IsAlwaysOnAlwaysConnectedCapable','DeviceTimezone','DisplayLanguage','GamerPCClassification','GamerSegment','AppCategoryNMinus1','AppCategoryNMinus2','AppCategoryNMinus3','AppCategoryNMinus4','AppCategoryNMinus5','AppCategoryNMinus6','AppCategoryNMinus7','AppCategoryNMinus8']"
   ]
  },
  {
   "cell_type": "code",
   "execution_count": 124,
   "metadata": {
    "collapsed": false
   },
   "outputs": [
    {
     "data": {
      "text/plain": [
       "21"
      ]
     },
     "execution_count": 124,
     "metadata": {},
     "output_type": "execute_result"
    }
   ],
   "source": [
    "len(catTypes)"
   ]
  },
  {
   "cell_type": "code",
   "execution_count": 125,
   "metadata": {
    "collapsed": false
   },
   "outputs": [],
   "source": [
    "for c in intTypes:\n",
    "    data[c].fillna(0, inplace=True)\n",
    "    data[c] = data[c].astype('int', copy=False)\n",
    "    \n",
    "data.to_csv(r'Data\\train.1.tsv', header=True, sep='\\t')"
   ]
  },
  {
   "cell_type": "code",
   "execution_count": 77,
   "metadata": {
    "collapsed": false,
    "scrolled": true
   },
   "outputs": [
    {
     "data": {
      "text/plain": [
       "1736000000"
      ]
     },
     "execution_count": 77,
     "metadata": {},
     "output_type": "execute_result"
    }
   ],
   "source": [
    "test.values.nbytes"
   ]
  },
  {
   "cell_type": "code",
   "execution_count": 81,
   "metadata": {
    "collapsed": false,
    "scrolled": false
   },
   "outputs": [
    {
     "data": {
      "text/plain": [
       "RowNumber                                       int64\n",
       "BubbleShownTime                                object\n",
       "CampaignId                                     object\n",
       "creativeName                                   object\n",
       "UniqueUserDeviceKey                             int64\n",
       "LifeTimeImpressionCount                         int32\n",
       "LifeTimeConversionCount                         int32\n",
       "RecentMonthConversionCount                      int32\n",
       "IsVirtualDevice                                  bool\n",
       "ISOCountryShortName                            object\n",
       "FirstUpdatedDate                               object\n",
       "DefaultInternetBrowser                         object\n",
       "OSOOBEDateTime                                 object\n",
       "ProcessorCores                                  int32\n",
       "ProcessorPhysicalCores                          int32\n",
       "PrimaryDiskTotalCapacity                        int32\n",
       "TotalPhysicalRAM                                int32\n",
       "IsDomainJoined                                 object\n",
       "IsCommercial                                     bool\n",
       "IsEducation                                      bool\n",
       "IsTouchEnabled                                   bool\n",
       "IsPenCapable                                     bool\n",
       "InternalPrimaryDisplayLogicalDPIX               int32\n",
       "InternalPrimaryDisplayLogicalDPIY               int32\n",
       "InternalPrimaryDisplayResolutionHorizontal      int32\n",
       "InternalPrimaryDisplayResolutionVertical        int32\n",
       "InternalPrimaryDiagonalDisplaySizeInInches    float64\n",
       "NumberofInternalDisplays                        int32\n",
       "NumberofExternalDisplays                        int32\n",
       "FrontFacingCameraResolution                     int32\n",
       "                                               ...   \n",
       "Days_Browser                                    int32\n",
       "Time_Communications                           float64\n",
       "Days_Communications                             int32\n",
       "Time_Content                                  float64\n",
       "Days_Content                                    int32\n",
       "Time_DevTools                                 float64\n",
       "Days_DevTools                                   int32\n",
       "Time_Games                                    float64\n",
       "Days_Games                                      int32\n",
       "Time_Malware                                  float64\n",
       "Days_Malware                                    int32\n",
       "Time_Media                                    float64\n",
       "Days_Media                                      int32\n",
       "Time_PersonalProductivity                     float64\n",
       "Days_PersonalProductivity                       int32\n",
       "Time_Readers                                  float64\n",
       "Days_Readers                                    int32\n",
       "Time_Search                                   float64\n",
       "Days_Search                                     int32\n",
       "Time_Social                                   float64\n",
       "Days_Social                                     int32\n",
       "Time_StudentAndLearning                       float64\n",
       "Days_StudentAndLearning                         int32\n",
       "Time_ModernApps                               float64\n",
       "Days_ModernApps                                 int32\n",
       "Time_Games_Core                               float64\n",
       "Days_Games_Core                                 int32\n",
       "Time_Games_Casual                             float64\n",
       "Days_Games_Casual                               int32\n",
       "HasClicked                                       bool\n",
       "dtype: object"
      ]
     },
     "execution_count": 81,
     "metadata": {},
     "output_type": "execute_result"
    }
   ],
   "source": [
    "test.dtypes"
   ]
  },
  {
   "cell_type": "code",
   "execution_count": 78,
   "metadata": {
    "collapsed": false
   },
   "outputs": [
    {
     "name": "stderr",
     "output_type": "stream",
     "text": [
      "C:\\Users\\serajago\\AppData\\Local\\Continuum2\\Anaconda3\\lib\\site-packages\\IPython\\core\\interactiveshell.py:2717: DtypeWarning: Columns (2,17,33) have mixed types. Specify dtype option on import or set low_memory=False.\n",
      "  interactivity=interactivity, compiler=compiler, result=result)\n"
     ]
    }
   ],
   "source": [
    "test2 = pd.read_csv(r'Data\\train.tsv', delimiter='\\t', parse_dates=True, nrows=200000)"
   ]
  },
  {
   "cell_type": "markdown",
   "metadata": {},
   "source": [
    "test['Time_Search'].values.nbytes"
   ]
  },
  {
   "cell_type": "code",
   "execution_count": 72,
   "metadata": {
    "collapsed": false
   },
   "outputs": [
    {
     "data": {
      "text/plain": [
       "0          1\n",
       "1          5\n",
       "2          2\n",
       "3          9\n",
       "4          3\n",
       "5          2\n",
       "6         22\n",
       "7         22\n",
       "8         22\n",
       "9          0\n",
       "10         0\n",
       "11         0\n",
       "12         4\n",
       "13         9\n",
       "14        11\n",
       "15         5\n",
       "16         8\n",
       "17         1\n",
       "18         6\n",
       "19        28\n",
       "20        28\n",
       "21        21\n",
       "22         0\n",
       "23         0\n",
       "24         0\n",
       "25         0\n",
       "26        22\n",
       "27        22\n",
       "28        12\n",
       "29         1\n",
       "          ..\n",
       "199970     1\n",
       "199971     1\n",
       "199972     0\n",
       "199973     2\n",
       "199974     0\n",
       "199975     0\n",
       "199976     1\n",
       "199977     2\n",
       "199978     2\n",
       "199979     0\n",
       "199980     1\n",
       "199981     4\n",
       "199982     1\n",
       "199983     1\n",
       "199984     0\n",
       "199985     0\n",
       "199986     0\n",
       "199987     0\n",
       "199988     0\n",
       "199989     6\n",
       "199990     0\n",
       "199991     1\n",
       "199992     1\n",
       "199993     0\n",
       "199994     0\n",
       "199995     1\n",
       "199996     2\n",
       "199997     2\n",
       "199998     2\n",
       "199999     2\n",
       "Name: LifeTimeImpressionCount, dtype: int32"
      ]
     },
     "execution_count": 72,
     "metadata": {},
     "output_type": "execute_result"
    }
   ],
   "source": [
    "test[pd.notnull(test['LifeTimeImpressionCount'])]['LifeTimeImpressionCount']"
   ]
  },
  {
   "cell_type": "code",
   "execution_count": 55,
   "metadata": {
    "collapsed": false
   },
   "outputs": [
    {
     "data": {
      "text/plain": [
       "RowNumber                                       int64\n",
       "BubbleShownTime                                object\n",
       "CampaignId                                     object\n",
       "creativeName                                   object\n",
       "UniqueUserDeviceKey                             int64\n",
       "LifeTimeImpressionCount                       float64\n",
       "LifeTimeConversionCount                       float64\n",
       "RecentMonthConversionCount                    float64\n",
       "IsVirtualDevice                                  bool\n",
       "ISOCountryShortName                            object\n",
       "FirstUpdatedDate                               object\n",
       "DefaultInternetBrowser                         object\n",
       "OSOOBEDateTime                                 object\n",
       "ProcessorCores                                float64\n",
       "ProcessorPhysicalCores                        float64\n",
       "PrimaryDiskTotalCapacity                      float64\n",
       "TotalPhysicalRAM                              float64\n",
       "IsDomainJoined                                 object\n",
       "IsCommercial                                     bool\n",
       "IsEducation                                      bool\n",
       "IsTouchEnabled                                   bool\n",
       "IsPenCapable                                     bool\n",
       "InternalPrimaryDisplayLogicalDPIX             float64\n",
       "InternalPrimaryDisplayLogicalDPIY             float64\n",
       "InternalPrimaryDisplayResolutionHorizontal    float64\n",
       "InternalPrimaryDisplayResolutionVertical      float64\n",
       "InternalPrimaryDiagonalDisplaySizeInInches    float64\n",
       "NumberofInternalDisplays                      float64\n",
       "NumberofExternalDisplays                      float64\n",
       "FrontFacingCameraResolution                   float64\n",
       "                                               ...   \n",
       "Days_Browser                                  float64\n",
       "Time_Communications                           float64\n",
       "Days_Communications                           float64\n",
       "Time_Content                                  float64\n",
       "Days_Content                                  float64\n",
       "Time_DevTools                                 float64\n",
       "Days_DevTools                                 float64\n",
       "Time_Games                                    float64\n",
       "Days_Games                                    float64\n",
       "Time_Malware                                  float64\n",
       "Days_Malware                                  float64\n",
       "Time_Media                                    float64\n",
       "Days_Media                                    float64\n",
       "Time_PersonalProductivity                     float64\n",
       "Days_PersonalProductivity                     float64\n",
       "Time_Readers                                  float64\n",
       "Days_Readers                                  float64\n",
       "Time_Search                                   float64\n",
       "Days_Search                                   float64\n",
       "Time_Social                                   float64\n",
       "Days_Social                                   float64\n",
       "Time_StudentAndLearning                       float64\n",
       "Days_StudentAndLearning                       float64\n",
       "Time_ModernApps                               float64\n",
       "Days_ModernApps                               float64\n",
       "Time_Games_Core                               float64\n",
       "Days_Games_Core                               float64\n",
       "Time_Games_Casual                             float64\n",
       "Days_Games_Casual                             float64\n",
       "HasClicked                                       bool\n",
       "dtype: object"
      ]
     },
     "execution_count": 55,
     "metadata": {},
     "output_type": "execute_result"
    }
   ],
   "source": []
  },
  {
   "cell_type": "code",
   "execution_count": 101,
   "metadata": {
    "collapsed": false,
    "scrolled": false
   },
   "outputs": [
    {
     "data": {
      "text/plain": [
       "BubbleShownTime                     object\n",
       "CampaignId                          object\n",
       "creativeName                        object\n",
       "ISOCountryShortName                 object\n",
       "FirstUpdatedDate                    object\n",
       "DefaultInternetBrowser              object\n",
       "OSOOBEDateTime                      object\n",
       "IsDomainJoined                      object\n",
       "IsAlwaysOnAlwaysConnectedCapable    object\n",
       "DeviceTimezone                      object\n",
       "DisplayLanguage                     object\n",
       "GamerPCClassification               object\n",
       "GamerSegment                        object\n",
       "AppCategoryNMinus1                  object\n",
       "AppCategoryNMinus2                  object\n",
       "AppCategoryNMinus3                  object\n",
       "AppCategoryNMinus4                  object\n",
       "AppCategoryNMinus5                  object\n",
       "AppCategoryNMinus6                  object\n",
       "AppCategoryNMinus7                  object\n",
       "AppCategoryNMinus8                  object\n",
       "dtype: object"
      ]
     },
     "execution_count": 101,
     "metadata": {},
     "output_type": "execute_result"
    }
   ],
   "source": [
    "test.dtypes[test.dtypes == 'object']"
   ]
  },
  {
   "cell_type": "code",
   "execution_count": 108,
   "metadata": {
    "collapsed": false
   },
   "outputs": [
    {
     "data": {
      "text/plain": [
       "count      188652\n",
       "unique         88\n",
       "top       Browser\n",
       "freq       102931\n",
       "Name: AppCategoryNMinus1, dtype: object"
      ]
     },
     "execution_count": 108,
     "metadata": {},
     "output_type": "execute_result"
    }
   ],
   "source": [
    "test['AppCategoryNMinus1'].describe()"
   ]
  }
 ],
 "metadata": {
  "anaconda-cloud": {},
  "kernelspec": {
   "display_name": "Python [default]",
   "language": "python",
   "name": "python3"
  },
  "language_info": {
   "codemirror_mode": {
    "name": "ipython",
    "version": 3
   },
   "file_extension": ".py",
   "mimetype": "text/x-python",
   "name": "python",
   "nbconvert_exporter": "python",
   "pygments_lexer": "ipython3",
   "version": "3.5.2"
  }
 },
 "nbformat": 4,
 "nbformat_minor": 1
}
